{
 "cells": [
  {
   "cell_type": "markdown",
   "metadata": {},
   "source": [
    "# Hey friends. #\n",
    "\n",
    "Variables r weird. Shift+Enter if you agree.\n",
    "\n",
    "by Jane Sieving"
   ]
  },
  {
   "cell_type": "code",
   "execution_count": null,
   "metadata": {},
   "outputs": [],
   "source": [
    "from modsim import System\n",
    "# If this doesn't work, move this file into your /code folder.\n",
    "# It needs to be in the same folder as modsim.py."
   ]
  },
  {
   "cell_type": "markdown",
   "metadata": {},
   "source": [
    "Let's write a function, like they do in ModSim notebooks all the time. We'll give it some parameters just to make it feel important."
   ]
  },
  {
   "cell_type": "code",
   "execution_count": null,
   "metadata": {},
   "outputs": [],
   "source": [
    "def func1(input1, input2):\n",
    "    print(\"Input 1 = \", input1)\n",
    "    print(\"Input 2 = \", input2)\n",
    "    output = input1 + input2\n",
    "    print(\"Output = \", output)"
   ]
  },
  {
   "cell_type": "code",
   "execution_count": null,
   "metadata": {},
   "outputs": [],
   "source": [
    "func1(1, 2.5)"
   ]
  },
  {
   "cell_type": "markdown",
   "metadata": {},
   "source": [
    "All it does is add two numbers and print a lot of stuff. Printing is fun, let's do it some more."
   ]
  },
  {
   "cell_type": "code",
   "execution_count": null,
   "metadata": {},
   "outputs": [],
   "source": [
    "print(output)"
   ]
  },
  {
   "cell_type": "markdown",
   "metadata": {},
   "source": [
    "Well, shucks. That didn't work. `output` isn't defined? But we defined it in that super technical function!\n",
    "You can try printing `input1` or `input2` as well, and you'll probably see the same error."
   ]
  },
  {
   "cell_type": "code",
   "execution_count": null,
   "metadata": {},
   "outputs": [],
   "source": [
    "output = 5\n",
    "print(output)"
   ]
  },
  {
   "cell_type": "markdown",
   "metadata": {},
   "source": [
    "So, output was defined in the function, but doesn't exist outside of the function executing. What happens if you run the function again and print output?"
   ]
  },
  {
   "cell_type": "code",
   "execution_count": null,
   "metadata": {},
   "outputs": [],
   "source": [
    "func1(1, 2.5) # will print input1, input2, and output\n",
    "print(\"Output also =\", output)"
   ]
  },
  {
   "cell_type": "markdown",
   "metadata": {},
   "source": [
    "What? There are 2 versions of `output`? Well ya see, this is where we come to **global** and **local** variables. Local variables only exist within a function or class* that is using them (they are temporary for a function/specific to a class). Global variables can be accessed by any function or class.\n",
    "\n",
    "When you create `output` in `func1` (and when you pass in values for `input1` and `input2`) those are local variables that only `func1` \"knows\" about. When you assign a value to output outside of `func1`, that is a global variable that you can access any time.\n",
    "\n",
    "\\**Classes are pre-defined or user-defined objects that have different methods and parmeters. TimeSeries, Series, State and System are all classes defined in the modsim.py library.*"
   ]
  },
  {
   "cell_type": "code",
   "execution_count": null,
   "metadata": {},
   "outputs": [],
   "source": [
    "def func2(input1, input2):\n",
    "    print(\"Input 1 = \", input1)\n",
    "    print(\"Input 2 = \", input2)\n",
    "    print(\"Output = \", output) # this will be the global value from earlier, since it's not locally computed"
   ]
  },
  {
   "cell_type": "code",
   "execution_count": null,
   "metadata": {},
   "outputs": [],
   "source": [
    "func1(1, 2.5)\n",
    "func2(1, 2.5)"
   ]
  },
  {
   "cell_type": "markdown",
   "metadata": {},
   "source": [
    "Here we're running two similar functions one after another, and they print their results one after another.\n",
    "The only difference between the functions is that one computes a value for `output` locally, and the other just prints `output`.\n",
    "\n",
    "`func2` accesses the global version of `output` because it has no other option.* `func1` accesses the local variable `output` because local variables override global values with the same name.\n",
    "\n",
    "\\**This isn't universally true, in some languages/cases you have to declare a variable as global for it to be accessed anywhere.*\n",
    "\n",
    "Let's look at another example:"
   ]
  },
  {
   "cell_type": "code",
   "execution_count": null,
   "metadata": {},
   "outputs": [],
   "source": [
    "def forgetful_func(input1, input2):\n",
    "    print(input1, input2)\n",
    "    \n",
    "forgetful_func(1, 6)\n",
    "\n",
    "print(\"Now we try to print those:\")\n",
    "print(input1, input2)"
   ]
  },
  {
   "cell_type": "markdown",
   "metadata": {},
   "source": [
    "Why isn't the second `print` command (outside of the function) working? Because `input1` and `input2` still aren't global. We getting this? Good.\n",
    "\n",
    "Now let's do what the book does all the time:"
   ]
  },
  {
   "cell_type": "code",
   "execution_count": null,
   "metadata": {},
   "outputs": [],
   "source": [
    "def useful_func(input1, input2):\n",
    "    print(input1 + input2)"
   ]
  },
  {
   "cell_type": "code",
   "execution_count": null,
   "metadata": {},
   "outputs": [],
   "source": [
    "useful_func(2, 3) # This should make sense. You pass in these parameters, they get used, they aren't stored after printing."
   ]
  },
  {
   "cell_type": "code",
   "execution_count": null,
   "metadata": {},
   "outputs": [],
   "source": [
    "input1 = 1.5\n",
    "input2 = 4\n",
    "useful_func(input1, input2)"
   ]
  },
  {
   "cell_type": "markdown",
   "metadata": {},
   "source": [
    "Now, I dare you to do something w_i_l_d: change those variable names in the cell above. Change them to be all different. Change them to be all the same. How does the function care about your variable names?"
   ]
  },
  {
   "cell_type": "code",
   "execution_count": null,
   "metadata": {},
   "outputs": [],
   "source": [
    "cat = 5\n",
    "dog = 10\n",
    "useful_func(cat, dog)\n",
    "useful_func(dog, dog)\n",
    "useful_func(input2, dog)"
   ]
  },
  {
   "cell_type": "markdown",
   "metadata": {},
   "source": [
    "Cool, so that's inputs (mostly). What about outputs? That poor little small-town `output` variable wants to be a global star.\n",
    "This, friends, is why `return` is so gosh darn important."
   ]
  },
  {
   "cell_type": "code",
   "execution_count": null,
   "metadata": {},
   "outputs": [],
   "source": [
    "def will_you_remember_me(thing1, thing2):\n",
    "    new_thing = thing1 + thing2\n",
    "    return new_thing"
   ]
  },
  {
   "cell_type": "code",
   "execution_count": null,
   "metadata": {},
   "outputs": [],
   "source": [
    "will_you_remember_me(3, 8)\n",
    "print(new_thing)"
   ]
  },
  {
   "cell_type": "markdown",
   "metadata": {},
   "source": [
    "Foiled again! But we used `return` and everything! Well guess what, a return value that doesn't get assigned to anything is like a letter without an address (cue joke about The Twitter and snail mail implying that I'm old or something).\n",
    "To store a return value, you HAVE TO assign it to a variable OUTSIDE of the function."
   ]
  },
  {
   "cell_type": "code",
   "execution_count": null,
   "metadata": {},
   "outputs": [],
   "source": [
    "I_will_remember_you = will_you_remember_me(6, 7)\n",
    "print(I_will_remember_you)\n",
    "# Please, never name things like this. Please."
   ]
  },
  {
   "cell_type": "markdown",
   "metadata": {},
   "source": [
    "If you're lazy you can do this, but your variable will not be saved so be careful.\n",
    "It just feeds the output (return value) of your function to the input of print()."
   ]
  },
  {
   "cell_type": "code",
   "execution_count": null,
   "metadata": {},
   "outputs": [],
   "source": [
    "print(will_you_remember_me(5, 6))"
   ]
  },
  {
   "cell_type": "markdown",
   "metadata": {},
   "source": [
    "You can do the above as a shortcut, but remember that your return value will be LOST FOREVER after that.\n",
    "\n",
    "Like Jack at the end of *Titanic*.\n",
    "\n",
    "Think about the choices that you make."
   ]
  },
  {
   "cell_type": "markdown",
   "metadata": {},
   "source": [
    "## Keyword arguments ##\n",
    "Okay, I guess I should talk about keyword arguments and that whole `System(this=this, that=that)` nonsense you're seeing.\n",
    "\n",
    "So basically, a class (object) has a bunch of properties (attributes). Usually a given class will have specific attributes, but classes like `State` and `System` are set up to pretty much take any parameters you give them and accept them as attributes."
   ]
  },
  {
   "cell_type": "code",
   "execution_count": null,
   "metadata": {},
   "outputs": [],
   "source": [
    "solar_system = System(planets=8, central_mass=\"Sun\")\n",
    "\n",
    "print(solar_system.planets, solar_system.central_mass)"
   ]
  },
  {
   "cell_type": "code",
   "execution_count": null,
   "metadata": {},
   "outputs": [],
   "source": [
    "other_system = System(planets=5, central_mass=\"Me\")\n",
    "\n",
    "print(other_system.planets, other_system.central_mass)"
   ]
  },
  {
   "cell_type": "code",
   "execution_count": null,
   "metadata": {},
   "outputs": [],
   "source": [
    "friends = 1000\n",
    "center_of_universe = \" \" # Type your name here?\n",
    "\n",
    "personal_universe = System(friends=friends, \n",
    "                           center_of_universe=center_of_universe)\n",
    "\n",
    "print(personal_universe.friends, \n",
    "      personal_universe.center_of_universe)"
   ]
  },
  {
   "cell_type": "markdown",
   "metadata": {},
   "source": [
    "So, you've created two systems by directly setting parameters, and one by passing in premade variables. In the book those variables usually have the same name as their target, which obscures what's actually happening."
   ]
  },
  {
   "cell_type": "code",
   "execution_count": null,
   "metadata": {},
   "outputs": [],
   "source": [
    "apples = 1\n",
    "bananas = 1\n",
    "cherries = 7\n",
    "grapes = 13\n",
    "\n",
    "fruit_salad = System(a=apples, b=bananas, c=cherries, d=grapes)\n",
    "\n",
    "print(fruit_salad.a, fruit_salad.b, fruit_salad.c, fruit_salad.d)"
   ]
  },
  {
   "cell_type": "code",
   "execution_count": null,
   "metadata": {},
   "outputs": [],
   "source": [
    "print(fruit_salad.apples)"
   ]
  },
  {
   "cell_type": "markdown",
   "metadata": {},
   "source": [
    "Oh dear, did that last one fail? Of course it did, apples isn't an attribute of fruit_salad. You *can* print plain old apples, because it's global:"
   ]
  },
  {
   "cell_type": "code",
   "execution_count": null,
   "metadata": {},
   "outputs": [],
   "source": [
    "print(apples)"
   ]
  },
  {
   "cell_type": "markdown",
   "metadata": {},
   "source": [
    "You *can't* print plain old a, because that's an attribute of fruit_salad and isn't defined outside of that."
   ]
  },
  {
   "cell_type": "code",
   "execution_count": null,
   "metadata": {},
   "outputs": [],
   "source": [
    "print(a)"
   ]
  },
  {
   "cell_type": "markdown",
   "metadata": {},
   "source": [
    "You can, however, do this:"
   ]
  },
  {
   "cell_type": "code",
   "execution_count": null,
   "metadata": {},
   "outputs": [],
   "source": [
    "global_a = fruit_salad.a # This is a name I chose, it doesn't 'make' the variable global.\n",
    "print(global_a)"
   ]
  },
  {
   "cell_type": "markdown",
   "metadata": {},
   "source": [
    "And you could just as well call `global_a` something else, like `a`, and there would be a global variable `a` as well as a property `a`, and if you changed one the other would not be affected."
   ]
  },
  {
   "cell_type": "code",
   "execution_count": null,
   "metadata": {},
   "outputs": [],
   "source": [
    "b = fruit_salad.b\n",
    "b += 10\n",
    "fruit_salad.b += 100\n",
    "print(b, fruit_salad.b)"
   ]
  },
  {
   "cell_type": "markdown",
   "metadata": {},
   "source": [
    "So, when you type `bikeshare = System(this=this, that=that)`,\n",
    "the *left* parts are specific attributes of the System object, *local* to the system.\n",
    "The *right* parts are values you are *passing in*, which happen to already be defined as global variables with the same names.\n",
    "\n",
    "You're just telling a function or class to use the global value on the right, calling it by the name on the left."
   ]
  },
  {
   "cell_type": "code",
   "execution_count": null,
   "metadata": {},
   "outputs": [],
   "source": []
  }
 ],
 "metadata": {
  "kernelspec": {
   "display_name": "Python 3",
   "language": "python",
   "name": "python3"
  },
  "language_info": {
   "codemirror_mode": {
    "name": "ipython",
    "version": 3
   },
   "file_extension": ".py",
   "mimetype": "text/x-python",
   "name": "python",
   "nbconvert_exporter": "python",
   "pygments_lexer": "ipython3",
   "version": "3.6.6"
  }
 },
 "nbformat": 4,
 "nbformat_minor": 2
}
