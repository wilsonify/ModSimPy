{
 "cells": [
  {
   "cell_type": "markdown",
   "metadata": {},
   "source": [
    "# Modeling and Simulation in Python\n",
    "\n",
    "Case Study: Queueing theory\n",
    "\n",
    "Copyright 2017 Allen Downey\n",
    "\n",
    "License: [Creative Commons Attribution 4.0 International](https://creativecommons.org/licenses/by/4.0)\n"
   ]
  },
  {
   "cell_type": "code",
   "execution_count": 1,
   "metadata": {},
   "outputs": [],
   "source": [
    "# Configure Jupyter so figures appear in the notebook\n",
    "%matplotlib inline\n",
    "\n",
    "# Configure Jupyter to display the assigned value after an assignment\n",
    "%config InteractiveShell.ast_node_interactivity='last_expr_or_assign'\n",
    "\n",
    "# import functions from the modsim.py module\n",
    "from modsim import *\n",
    "\n",
    "# set the random number generator\n",
    "np.random.seed(7)"
   ]
  },
  {
   "cell_type": "markdown",
   "metadata": {},
   "source": [
    "## One queue or two?\n",
    "\n",
    "This notebook presents a solution to an exercise from *Modeling and Simulation in Python*.  It uses features from the first four chapters to answer a question related to queueing theory, which is the study of systems that involve waiting in lines, also known as \"queues\".\n",
    "\n",
    "Suppose you are designing the checkout area for a new store.  There is room for two checkout counters and a waiting area for customers.  You can make two lines, one for each counter, or one line that serves both counters.\n",
    "\n",
    "In theory, you might expect a single line to be better, but it has some practical drawbacks: in order to maintain a single line, you would have to install rope barriers, and customers might be put off by what seems to be a longer line, even if it moves faster.\n",
    "\n",
    "So you'd like to check whether the single line is really better and by how much.  Simulation can help answer this question.\n",
    "\n",
    "As we did in the bikeshare model, we'll assume that a customer is equally likely to arrive during any timestep.  I'll denote this probability using the Greek letter lambda, $\\lambda$, or the variable name `lam`.  The value of $\\lambda$ probably varies from day to day, so we'll have to consider a range of possibilities.\n",
    "\n",
    "Based on data from other stores, you know that it takes 5 minutes for a customer to check out, on average.  But checkout times are highly variable: most customers take less than 5 minutes, but some take substantially more.  A simple way to model this variability is to assume that when a customer is checking out, they have the same probability of finishing up during each time step.  I'll denote this probability using the Greek letter mu, $\\mu$, or the variable name `mu`.\n",
    "\n",
    "If we choose $\\mu=1/5$, the average number of time steps for each checkout will be 5 minutes, which is consistent with the data."
   ]
  },
  {
   "cell_type": "markdown",
   "metadata": {},
   "source": [
    "### One server, one queue\n",
    "\n",
    "Write a function called `make_system` that takes `lam` and `mu` as parameters and returns a `System` object with variables `lam`, `mu`, and `duration`.  Set `duration`, which is the number of time steps to simulate, to 10 hours, expressed in minutes. "
   ]
  },
  {
   "cell_type": "code",
   "execution_count": 2,
   "metadata": {},
   "outputs": [],
   "source": [
    "# Solution\n",
    "\n",
    "def make_system(lam, mu):\n",
    "    \"\"\"Make a System object.\n",
    "    \n",
    "    lam: arrival rate, per minute\n",
    "    mu: service completion rate, per minute\n",
    "    \n",
    "    returns: System object\n",
    "    \"\"\"\n",
    "    # duration is 10 hours, expressed in minutes\n",
    "    return System(lam=lam, mu=mu, duration=10*60)"
   ]
  },
  {
   "cell_type": "markdown",
   "metadata": {},
   "source": [
    "Test this function by creating a `System` object with `lam=1/8` and `mu=1/5`."
   ]
  },
  {
   "cell_type": "code",
   "execution_count": 3,
   "metadata": {},
   "outputs": [
    {
     "data": {
      "text/html": [
       "<div>\n",
       "<style scoped>\n",
       "    .dataframe tbody tr th:only-of-type {\n",
       "        vertical-align: middle;\n",
       "    }\n",
       "\n",
       "    .dataframe tbody tr th {\n",
       "        vertical-align: top;\n",
       "    }\n",
       "\n",
       "    .dataframe thead th {\n",
       "        text-align: right;\n",
       "    }\n",
       "</style>\n",
       "<table border=\"1\" class=\"dataframe\">\n",
       "  <thead>\n",
       "    <tr style=\"text-align: right;\">\n",
       "      <th></th>\n",
       "      <th>values</th>\n",
       "    </tr>\n",
       "  </thead>\n",
       "  <tbody>\n",
       "    <tr>\n",
       "      <th>lam</th>\n",
       "      <td>0.125</td>\n",
       "    </tr>\n",
       "    <tr>\n",
       "      <th>mu</th>\n",
       "      <td>0.200</td>\n",
       "    </tr>\n",
       "    <tr>\n",
       "      <th>duration</th>\n",
       "      <td>600.000</td>\n",
       "    </tr>\n",
       "  </tbody>\n",
       "</table>\n",
       "</div>"
      ],
      "text/plain": [
       "lam           0.125\n",
       "mu            0.200\n",
       "duration    600.000\n",
       "dtype: float64"
      ]
     },
     "execution_count": 3,
     "metadata": {},
     "output_type": "execute_result"
    }
   ],
   "source": [
    "# Solution\n",
    "\n",
    "interarrival_time = 8\n",
    "service_time = 5\n",
    "\n",
    "lam = 1 / interarrival_time\n",
    "mu = 1 / service_time\n",
    "\n",
    "system = make_system(lam, mu)"
   ]
  },
  {
   "cell_type": "markdown",
   "metadata": {},
   "source": [
    "Write an update function that takes as parameters `x`, which is the total number of customer in the store, including the one checking out; `t`, which is the number of minutes that have elapsed in the simulation, and `system`, which is a `System` object.\n",
    "\n",
    "If there's a customer checking out, it should use `flip` to decide whether they are done.  And it should use `flip` to decide if a new customer has arrived.\n",
    "\n",
    "It should return the total number of customers at the end of the time step.\n"
   ]
  },
  {
   "cell_type": "code",
   "execution_count": 4,
   "metadata": {},
   "outputs": [],
   "source": [
    "# Solution\n",
    "\n",
    "def update_func1(x, t, system):\n",
    "    \"\"\"Simulate one time step.\n",
    "    \n",
    "    x: number of people in the shop\n",
    "    t: time step\n",
    "    system: System object\n",
    "    \"\"\"\n",
    "    # if there's a customer in service, check if they're done\n",
    "    if x > 0:\n",
    "        if flip(system.mu):\n",
    "            x -= 1\n",
    "            \n",
    "    # check for an arrival\n",
    "    if flip(system.lam):\n",
    "        x += 1\n",
    "        \n",
    "    return x"
   ]
  },
  {
   "cell_type": "markdown",
   "metadata": {},
   "source": [
    "Test your function by calling it with `x=1`, `t=0`, and the `System` object you created.  If you run it a few times, you should see different results."
   ]
  },
  {
   "cell_type": "code",
   "execution_count": 5,
   "metadata": {},
   "outputs": [
    {
     "data": {
      "text/plain": [
       "0"
      ]
     },
     "execution_count": 5,
     "metadata": {},
     "output_type": "execute_result"
    }
   ],
   "source": [
    "# Solution\n",
    "\n",
    "update_func1(1, 0, system)"
   ]
  },
  {
   "cell_type": "markdown",
   "metadata": {},
   "source": [
    "Now we can run the simulation.  Here's a version of `run_simulation` that creates a `TimeSeries` with the total number of customers in the store, including the one checking out."
   ]
  },
  {
   "cell_type": "code",
   "execution_count": 6,
   "metadata": {},
   "outputs": [],
   "source": [
    "def run_simulation(system, update_func):\n",
    "    \"\"\"Simulate a queueing system.\n",
    "    \n",
    "    system: System object\n",
    "    update_func: function object\n",
    "    \"\"\"\n",
    "    x = 0\n",
    "    results = TimeSeries()\n",
    "    results[0] = x\n",
    "    \n",
    "    for t in linrange(0, system.duration):\n",
    "        x = update_func(x, t, system)\n",
    "        results[t+1] = x\n",
    "\n",
    "    return results"
   ]
  },
  {
   "cell_type": "markdown",
   "metadata": {},
   "source": [
    "Call `run_simulation` with your update function and plot the results."
   ]
  },
  {
   "cell_type": "code",
   "execution_count": 7,
   "metadata": {},
   "outputs": [
    {
     "data": {
      "image/png": "[encoded data removed]",
      "text/plain": [
       "<Figure size 432x288 with 1 Axes>"
      ]
     },
     "metadata": {
      "needs_background": "light"
     },
     "output_type": "display_data"
    }
   ],
   "source": [
    "# Solution\n",
    "\n",
    "results = run_simulation(system, update_func1)\n",
    "plot(results)\n",
    "decorate(xlabel='Time (min)', ylabel='Customers')"
   ]
  },
  {
   "cell_type": "markdown",
   "metadata": {},
   "source": [
    "After the simulation, we can compute `L`, which is the average number of customers in the system, and `W`, which is the average time customers spend in the store.  `L` and `W` are related by Little's Law:\n",
    "\n",
    "$L = \\lambda W$\n",
    "\n",
    "Where $\\lambda$ is the arrival rate.  Here's a function that computes them."
   ]
  },
  {
   "cell_type": "code",
   "execution_count": 8,
   "metadata": {},
   "outputs": [],
   "source": [
    "def compute_metrics(results, system):\n",
    "    \"\"\"Compute average number of customers and wait time.\n",
    "    \n",
    "    results: TimeSeries of queue lengths\n",
    "    system: System object\n",
    "    \n",
    "    returns: L, W\n",
    "    \"\"\"\n",
    "    L = results.mean()\n",
    "    W = L / system.lam\n",
    "    return L, W"
   ]
  },
  {
   "cell_type": "markdown",
   "metadata": {},
   "source": [
    "Call `compute_metrics` with the results from your simulation."
   ]
  },
  {
   "cell_type": "code",
   "execution_count": 9,
   "metadata": {},
   "outputs": [
    {
     "data": {
      "text/plain": [
       "(0.8552412645590682, 6.841930116472546)"
      ]
     },
     "execution_count": 9,
     "metadata": {},
     "output_type": "execute_result"
    }
   ],
   "source": [
    "# Solution\n",
    "\n",
    "compute_metrics(results, system)"
   ]
  },
  {
   "cell_type": "markdown",
   "metadata": {},
   "source": [
    "### Parameter sweep\n",
    "\n",
    "Since we don't know the actual value of $\\lambda$, we can sweep through a range of possibilities, from 10% to 80% of the completion rate, $\\mu$.  (If customers arrive faster than the completion rate, the queue grows without bound.  In that case the metrics `L` and `W` just depend on how long the store is open.)\n",
    "\n",
    "Create an array of values for `lam`."
   ]
  },
  {
   "cell_type": "code",
   "execution_count": 10,
   "metadata": {},
   "outputs": [
    {
     "data": {
      "text/plain": [
       "array([0.02  , 0.0214, 0.0228, 0.0242, 0.0256, 0.027 , 0.0284, 0.0298,\n",
       "       0.0312, 0.0326, 0.034 , 0.0354, 0.0368, 0.0382, 0.0396, 0.041 ,\n",
       "       0.0424, 0.0438, 0.0452, 0.0466, 0.048 , 0.0494, 0.0508, 0.0522,\n",
       "       0.0536, 0.055 , 0.0564, 0.0578, 0.0592, 0.0606, 0.062 , 0.0634,\n",
       "       0.0648, 0.0662, 0.0676, 0.069 , 0.0704, 0.0718, 0.0732, 0.0746,\n",
       "       0.076 , 0.0774, 0.0788, 0.0802, 0.0816, 0.083 , 0.0844, 0.0858,\n",
       "       0.0872, 0.0886, 0.09  , 0.0914, 0.0928, 0.0942, 0.0956, 0.097 ,\n",
       "       0.0984, 0.0998, 0.1012, 0.1026, 0.104 , 0.1054, 0.1068, 0.1082,\n",
       "       0.1096, 0.111 , 0.1124, 0.1138, 0.1152, 0.1166, 0.118 , 0.1194,\n",
       "       0.1208, 0.1222, 0.1236, 0.125 , 0.1264, 0.1278, 0.1292, 0.1306,\n",
       "       0.132 , 0.1334, 0.1348, 0.1362, 0.1376, 0.139 , 0.1404, 0.1418,\n",
       "       0.1432, 0.1446, 0.146 , 0.1474, 0.1488, 0.1502, 0.1516, 0.153 ,\n",
       "       0.1544, 0.1558, 0.1572, 0.1586, 0.16  ])"
      ]
     },
     "execution_count": 10,
     "metadata": {},
     "output_type": "execute_result"
    }
   ],
   "source": [
    "# Solution\n",
    "\n",
    "num_vals = 101\n",
    "lam_array = linspace(0.1*mu, 0.8*mu, num_vals)\n",
    "lam_array"
   ]
  },
  {
   "cell_type": "markdown",
   "metadata": {},
   "source": [
    "Write a function that takes an array of values for `lam`, a single value for `mu`, and an update function.\n",
    "\n",
    "For each value of `lam`, it should run a simulation, compute `L` and `W`, and store the value of `W` in a `SweepSeries`.\n",
    "\n",
    "It should return the `SweepSeries`."
   ]
  },
  {
   "cell_type": "code",
   "execution_count": 11,
   "metadata": {},
   "outputs": [],
   "source": [
    "# Solution\n",
    "\n",
    "def sweep_lam(lam_array, mu, update_func):\n",
    "    \"\"\"Run simulations with a range of values for `lam`\n",
    "    \n",
    "    lam_array: array of values for `lam`\n",
    "    mu: probability of finishing a checkout\n",
    "    update_func: passed along to run_simulation\n",
    "    \n",
    "    returns: SweepSeries of average wait time vs lam\n",
    "    \"\"\"\n",
    "    sweep = SweepSeries()\n",
    "    \n",
    "    for lam in lam_array:\n",
    "        system = make_system(lam, mu)\n",
    "        results = run_simulation(system, update_func)\n",
    "        L, W = compute_metrics(results, system)\n",
    "        sweep[lam] = W\n",
    "        \n",
    "    return sweep"
   ]
  },
  {
   "cell_type": "markdown",
   "metadata": {},
   "source": [
    "Call your function to generate a `SweepSeries`, and plot it."
   ]
  },
  {
   "cell_type": "code",
   "execution_count": 12,
   "metadata": {},
   "outputs": [
    {
     "data": {
      "text/html": [
       "<div>\n",
       "<style scoped>\n",
       "    .dataframe tbody tr th:only-of-type {\n",
       "        vertical-align: middle;\n",
       "    }\n",
       "\n",
       "    .dataframe tbody tr th {\n",
       "        vertical-align: top;\n",
       "    }\n",
       "\n",
       "    .dataframe thead th {\n",
       "        text-align: right;\n",
       "    }\n",
       "</style>\n",
       "<table border=\"1\" class=\"dataframe\">\n",
       "  <thead>\n",
       "    <tr style=\"text-align: right;\">\n",
       "      <th></th>\n",
       "      <th>values</th>\n",
       "    </tr>\n",
       "  </thead>\n",
       "  <tbody>\n",
       "    <tr>\n",
       "      <th>0.0200</th>\n",
       "      <td>4.658902</td>\n",
       "    </tr>\n",
       "    <tr>\n",
       "      <th>0.0214</th>\n",
       "      <td>5.209386</td>\n",
       "    </tr>\n",
       "    <tr>\n",
       "      <th>0.0228</th>\n",
       "      <td>3.065067</td>\n",
       "    </tr>\n",
       "    <tr>\n",
       "      <th>0.0242</th>\n",
       "      <td>5.706742</td>\n",
       "    </tr>\n",
       "    <tr>\n",
       "      <th>0.0256</th>\n",
       "      <td>8.059484</td>\n",
       "    </tr>\n",
       "    <tr>\n",
       "      <th>0.0270</th>\n",
       "      <td>9.613607</td>\n",
       "    </tr>\n",
       "    <tr>\n",
       "      <th>0.0284</th>\n",
       "      <td>3.280917</td>\n",
       "    </tr>\n",
       "    <tr>\n",
       "      <th>0.0298</th>\n",
       "      <td>4.075981</td>\n",
       "    </tr>\n",
       "    <tr>\n",
       "      <th>0.0312</th>\n",
       "      <td>6.932890</td>\n",
       "    </tr>\n",
       "    <tr>\n",
       "      <th>0.0326</th>\n",
       "      <td>5.563325</td>\n",
       "    </tr>\n",
       "    <tr>\n",
       "      <th>0.0340</th>\n",
       "      <td>6.704512</td>\n",
       "    </tr>\n",
       "    <tr>\n",
       "      <th>0.0354</th>\n",
       "      <td>10.340581</td>\n",
       "    </tr>\n",
       "    <tr>\n",
       "      <th>0.0368</th>\n",
       "      <td>7.279534</td>\n",
       "    </tr>\n",
       "    <tr>\n",
       "      <th>0.0382</th>\n",
       "      <td>4.225070</td>\n",
       "    </tr>\n",
       "    <tr>\n",
       "      <th>0.0396</th>\n",
       "      <td>4.453856</td>\n",
       "    </tr>\n",
       "    <tr>\n",
       "      <th>0.0410</th>\n",
       "      <td>3.449535</td>\n",
       "    </tr>\n",
       "    <tr>\n",
       "      <th>0.0424</th>\n",
       "      <td>5.376260</td>\n",
       "    </tr>\n",
       "    <tr>\n",
       "      <th>0.0438</th>\n",
       "      <td>7.483722</td>\n",
       "    </tr>\n",
       "    <tr>\n",
       "      <th>0.0452</th>\n",
       "      <td>4.491040</td>\n",
       "    </tr>\n",
       "    <tr>\n",
       "      <th>0.0466</th>\n",
       "      <td>6.641292</td>\n",
       "    </tr>\n",
       "    <tr>\n",
       "      <th>0.0480</th>\n",
       "      <td>3.986412</td>\n",
       "    </tr>\n",
       "    <tr>\n",
       "      <th>0.0494</th>\n",
       "      <td>5.119672</td>\n",
       "    </tr>\n",
       "    <tr>\n",
       "      <th>0.0508</th>\n",
       "      <td>6.386993</td>\n",
       "    </tr>\n",
       "    <tr>\n",
       "      <th>0.0522</th>\n",
       "      <td>8.861349</td>\n",
       "    </tr>\n",
       "    <tr>\n",
       "      <th>0.0536</th>\n",
       "      <td>6.394815</td>\n",
       "    </tr>\n",
       "    <tr>\n",
       "      <th>0.0550</th>\n",
       "      <td>6.534564</td>\n",
       "    </tr>\n",
       "    <tr>\n",
       "      <th>0.0564</th>\n",
       "      <td>10.060065</td>\n",
       "    </tr>\n",
       "    <tr>\n",
       "      <th>0.0578</th>\n",
       "      <td>4.001405</td>\n",
       "    </tr>\n",
       "    <tr>\n",
       "      <th>0.0592</th>\n",
       "      <td>7.110896</td>\n",
       "    </tr>\n",
       "    <tr>\n",
       "      <th>0.0606</th>\n",
       "      <td>3.459581</td>\n",
       "    </tr>\n",
       "    <tr>\n",
       "      <th>...</th>\n",
       "      <td>...</td>\n",
       "    </tr>\n",
       "    <tr>\n",
       "      <th>0.1194</th>\n",
       "      <td>14.687971</td>\n",
       "    </tr>\n",
       "    <tr>\n",
       "      <th>0.1208</th>\n",
       "      <td>6.942072</td>\n",
       "    </tr>\n",
       "    <tr>\n",
       "      <th>0.1222</th>\n",
       "      <td>12.472393</td>\n",
       "    </tr>\n",
       "    <tr>\n",
       "      <th>0.1236</th>\n",
       "      <td>9.827203</td>\n",
       "    </tr>\n",
       "    <tr>\n",
       "      <th>0.1250</th>\n",
       "      <td>27.873544</td>\n",
       "    </tr>\n",
       "    <tr>\n",
       "      <th>0.1264</th>\n",
       "      <td>10.978538</td>\n",
       "    </tr>\n",
       "    <tr>\n",
       "      <th>0.1278</th>\n",
       "      <td>7.121673</td>\n",
       "    </tr>\n",
       "    <tr>\n",
       "      <th>0.1292</th>\n",
       "      <td>12.543593</td>\n",
       "    </tr>\n",
       "    <tr>\n",
       "      <th>0.1306</th>\n",
       "      <td>17.976675</td>\n",
       "    </tr>\n",
       "    <tr>\n",
       "      <th>0.1320</th>\n",
       "      <td>8.042152</td>\n",
       "    </tr>\n",
       "    <tr>\n",
       "      <th>0.1334</th>\n",
       "      <td>13.545640</td>\n",
       "    </tr>\n",
       "    <tr>\n",
       "      <th>0.1348</th>\n",
       "      <td>14.701018</td>\n",
       "    </tr>\n",
       "    <tr>\n",
       "      <th>0.1362</th>\n",
       "      <td>36.649637</td>\n",
       "    </tr>\n",
       "    <tr>\n",
       "      <th>0.1376</th>\n",
       "      <td>28.150756</td>\n",
       "    </tr>\n",
       "    <tr>\n",
       "      <th>0.1390</th>\n",
       "      <td>13.957553</td>\n",
       "    </tr>\n",
       "    <tr>\n",
       "      <th>0.1404</th>\n",
       "      <td>5.119672</td>\n",
       "    </tr>\n",
       "    <tr>\n",
       "      <th>0.1418</th>\n",
       "      <td>17.166969</td>\n",
       "    </tr>\n",
       "    <tr>\n",
       "      <th>0.1432</th>\n",
       "      <td>9.527882</td>\n",
       "    </tr>\n",
       "    <tr>\n",
       "      <th>0.1446</th>\n",
       "      <td>13.750711</td>\n",
       "    </tr>\n",
       "    <tr>\n",
       "      <th>0.1460</th>\n",
       "      <td>7.783831</td>\n",
       "    </tr>\n",
       "    <tr>\n",
       "      <th>0.1474</th>\n",
       "      <td>10.249765</td>\n",
       "    </tr>\n",
       "    <tr>\n",
       "      <th>0.1488</th>\n",
       "      <td>6.988800</td>\n",
       "    </tr>\n",
       "    <tr>\n",
       "      <th>0.1502</th>\n",
       "      <td>10.058690</td>\n",
       "    </tr>\n",
       "    <tr>\n",
       "      <th>0.1516</th>\n",
       "      <td>13.071881</td>\n",
       "    </tr>\n",
       "    <tr>\n",
       "      <th>0.1530</th>\n",
       "      <td>12.800017</td>\n",
       "    </tr>\n",
       "    <tr>\n",
       "      <th>0.1544</th>\n",
       "      <td>10.776512</td>\n",
       "    </tr>\n",
       "    <tr>\n",
       "      <th>0.1558</th>\n",
       "      <td>23.281694</td>\n",
       "    </tr>\n",
       "    <tr>\n",
       "      <th>0.1572</th>\n",
       "      <td>10.351704</td>\n",
       "    </tr>\n",
       "    <tr>\n",
       "      <th>0.1586</th>\n",
       "      <td>9.242687</td>\n",
       "    </tr>\n",
       "    <tr>\n",
       "      <th>0.1600</th>\n",
       "      <td>23.356905</td>\n",
       "    </tr>\n",
       "  </tbody>\n",
       "</table>\n",
       "<p>101 rows × 1 columns</p>\n",
       "</div>"
      ],
      "text/plain": [
       "0.0200     4.658902\n",
       "0.0214     5.209386\n",
       "0.0228     3.065067\n",
       "0.0242     5.706742\n",
       "0.0256     8.059484\n",
       "0.0270     9.613607\n",
       "0.0284     3.280917\n",
       "0.0298     4.075981\n",
       "0.0312     6.932890\n",
       "0.0326     5.563325\n",
       "0.0340     6.704512\n",
       "0.0354    10.340581\n",
       "0.0368     7.279534\n",
       "0.0382     4.225070\n",
       "0.0396     4.453856\n",
       "0.0410     3.449535\n",
       "0.0424     5.376260\n",
       "0.0438     7.483722\n",
       "0.0452     4.491040\n",
       "0.0466     6.641292\n",
       "0.0480     3.986412\n",
       "0.0494     5.119672\n",
       "0.0508     6.386993\n",
       "0.0522     8.861349\n",
       "0.0536     6.394815\n",
       "0.0550     6.534564\n",
       "0.0564    10.060065\n",
       "0.0578     4.001405\n",
       "0.0592     7.110896\n",
       "0.0606     3.459581\n",
       "            ...    \n",
       "0.1194    14.687971\n",
       "0.1208     6.942072\n",
       "0.1222    12.472393\n",
       "0.1236     9.827203\n",
       "0.1250    27.873544\n",
       "0.1264    10.978538\n",
       "0.1278     7.121673\n",
       "0.1292    12.543593\n",
       "0.1306    17.976675\n",
       "0.1320     8.042152\n",
       "0.1334    13.545640\n",
       "0.1348    14.701018\n",
       "0.1362    36.649637\n",
       "0.1376    28.150756\n",
       "0.1390    13.957553\n",
       "0.1404     5.119672\n",
       "0.1418    17.166969\n",
       "0.1432     9.527882\n",
       "0.1446    13.750711\n",
       "0.1460     7.783831\n",
       "0.1474    10.249765\n",
       "0.1488     6.988800\n",
       "0.1502    10.058690\n",
       "0.1516    13.071881\n",
       "0.1530    12.800017\n",
       "0.1544    10.776512\n",
       "0.1558    23.281694\n",
       "0.1572    10.351704\n",
       "0.1586     9.242687\n",
       "0.1600    23.356905\n",
       "Length: 101, dtype: float64"
      ]
     },
     "execution_count": 12,
     "metadata": {},
     "output_type": "execute_result"
    }
   ],
   "source": [
    "# Solution\n",
    "\n",
    "sweep = sweep_lam(lam_array, mu, update_func1)"
   ]
  },
  {
   "cell_type": "code",
   "execution_count": 13,
   "metadata": {},
   "outputs": [
    {
     "data": {
      "image/png": "[encoded data removed]",
      "text/plain": [
       "<Figure size 432x288 with 1 Axes>"
      ]
     },
     "metadata": {
      "needs_background": "light"
     },
     "output_type": "display_data"
    }
   ],
   "source": [
    "# Solution\n",
    "\n",
    "plot(sweep, 'bo')\n",
    "\n",
    "decorate(xlabel='Arrival late, lambda (per min)',\n",
    "         ylabel='Average time in system',\n",
    "         title='Single server, single queue')"
   ]
  },
  {
   "cell_type": "markdown",
   "metadata": {},
   "source": [
    "If we imagine that this range of values represents arrival rates on different days, we can use the average value of `W`, for a range of values of `lam`, to compare different queueing strategies."
   ]
  },
  {
   "cell_type": "code",
   "execution_count": 14,
   "metadata": {},
   "outputs": [],
   "source": [
    "# W_avg = sweep.mean()"
   ]
  },
  {
   "cell_type": "markdown",
   "metadata": {},
   "source": [
    "### Analysis\n",
    "\n",
    "The model I chose for this system is a common model in queueing theory, in part because many of its properties can be derived analytically.\n",
    "\n",
    "In particular, we can derive the average time in the store as a function of $\\mu$ and $\\lambda$:\n",
    "\n",
    "$W = 1 / (\\mu - \\lambda)$\n",
    "\n",
    "The following function plots the theoretical value of $W$ as a function of $\\lambda$."
   ]
  },
  {
   "cell_type": "code",
   "execution_count": 15,
   "metadata": {},
   "outputs": [],
   "source": [
    "def plot_W(lam_array, mu):\n",
    "    \"\"\"Plot the theoretical mean wait time.\n",
    "    \n",
    "    lam_array: array of values for `lam`\n",
    "    mu: probability of finishing a checkout\n",
    "    \"\"\"\n",
    "    W = 1 / (mu - lam_array)\n",
    "    plot(lam_array, W, 'g-')"
   ]
  },
  {
   "cell_type": "markdown",
   "metadata": {},
   "source": [
    "Use this function to plot the theoretical results, then plot your simulation results again on the same graph.  How do they compare?"
   ]
  },
  {
   "cell_type": "code",
   "execution_count": 16,
   "metadata": {},
   "outputs": [
    {
     "data": {
      "image/png": "[encoded data removed]",
      "text/plain": [
       "<Figure size 432x288 with 1 Axes>"
      ]
     },
     "metadata": {
      "needs_background": "light"
     },
     "output_type": "display_data"
    }
   ],
   "source": [
    "# Solution\n",
    "\n",
    "plot_W(lam_array, mu)\n",
    "plot(sweep, 'bo')\n",
    "\n",
    "decorate(xlabel='Arrival late, lambda (per min)',\n",
    "         ylabel='Average time in system',\n",
    "         title='Single server, single queue')"
   ]
  },
  {
   "cell_type": "markdown",
   "metadata": {},
   "source": [
    "### Multiple servers\n",
    "\n",
    "Now let's try the other two queueing strategies:\n",
    "\n",
    "1.  One queue with two checkout counters.\n",
    "2.  Two queues, one for each counter.\n",
    "\n",
    "The following figure shows the three scenarios:\n",
    "\n",
    "![](diagrams/queue.png)\n",
    "\n",
    "Write an update function for one queue with two servers."
   ]
  },
  {
   "cell_type": "code",
   "execution_count": 17,
   "metadata": {},
   "outputs": [],
   "source": [
    "# Solution\n",
    "\n",
    "def update_func2(x, t, system):\n",
    "    \"\"\"Simulate a single queue with two servers.\n",
    "    \n",
    "    system: System object\n",
    "    \"\"\"\n",
    "    # if both servers are busy, check whether the\n",
    "    # second is complete\n",
    "    if x > 1 and flip(system.mu):\n",
    "        x -= 1\n",
    "            \n",
    "    # check whether the first is complete\n",
    "    if x > 0 and flip(system.mu):\n",
    "        x -= 1\n",
    "    \n",
    "    # check for an arrival\n",
    "    if flip(system.lam):\n",
    "        x += 1\n",
    "        \n",
    "    return x"
   ]
  },
  {
   "cell_type": "markdown",
   "metadata": {},
   "source": [
    "Use this update function to simulate the system, plot the results, and print the metrics."
   ]
  },
  {
   "cell_type": "code",
   "execution_count": 18,
   "metadata": {},
   "outputs": [
    {
     "data": {
      "text/plain": [
       "(0.8552412645590682, 6.841930116472546)"
      ]
     },
     "execution_count": 18,
     "metadata": {},
     "output_type": "execute_result"
    },
    {
     "data": {
      "image/png": "[encoded data removed]",
      "text/plain": [
       "<Figure size 432x288 with 1 Axes>"
      ]
     },
     "metadata": {
      "needs_background": "light"
     },
     "output_type": "display_data"
    }
   ],
   "source": [
    "# Solution\n",
    "\n",
    "system = make_system(lam, mu)\n",
    "run_simulation(system, update_func2)\n",
    "plot(results)\n",
    "decorate(xlabel='Time (min)', ylabel='Customers')\n",
    "compute_metrics(results, system)"
   ]
  },
  {
   "cell_type": "markdown",
   "metadata": {},
   "source": [
    "Since we have two checkout counters now, we can consider values for $\\lambda$ that exceed $\\mu$.\n",
    "\n",
    "Create a new array of values for `lam` from 10% to 160% of `mu`."
   ]
  },
  {
   "cell_type": "code",
   "execution_count": 19,
   "metadata": {},
   "outputs": [
    {
     "data": {
      "text/plain": [
       "array([0.02 , 0.023, 0.026, 0.029, 0.032, 0.035, 0.038, 0.041, 0.044,\n",
       "       0.047, 0.05 , 0.053, 0.056, 0.059, 0.062, 0.065, 0.068, 0.071,\n",
       "       0.074, 0.077, 0.08 , 0.083, 0.086, 0.089, 0.092, 0.095, 0.098,\n",
       "       0.101, 0.104, 0.107, 0.11 , 0.113, 0.116, 0.119, 0.122, 0.125,\n",
       "       0.128, 0.131, 0.134, 0.137, 0.14 , 0.143, 0.146, 0.149, 0.152,\n",
       "       0.155, 0.158, 0.161, 0.164, 0.167, 0.17 , 0.173, 0.176, 0.179,\n",
       "       0.182, 0.185, 0.188, 0.191, 0.194, 0.197, 0.2  , 0.203, 0.206,\n",
       "       0.209, 0.212, 0.215, 0.218, 0.221, 0.224, 0.227, 0.23 , 0.233,\n",
       "       0.236, 0.239, 0.242, 0.245, 0.248, 0.251, 0.254, 0.257, 0.26 ,\n",
       "       0.263, 0.266, 0.269, 0.272, 0.275, 0.278, 0.281, 0.284, 0.287,\n",
       "       0.29 , 0.293, 0.296, 0.299, 0.302, 0.305, 0.308, 0.311, 0.314,\n",
       "       0.317, 0.32 ])"
      ]
     },
     "execution_count": 19,
     "metadata": {},
     "output_type": "execute_result"
    }
   ],
   "source": [
    "# Solution\n",
    "\n",
    "lam_array = linspace(0.1*mu, 1.6*mu, num_vals)"
   ]
  },
  {
   "cell_type": "markdown",
   "metadata": {},
   "source": [
    "Use your sweep function to simulate the two server, one queue scenario with a range of values for `lam`.\n",
    "\n",
    "Plot the results and print the average value of `W` across all values of `lam`."
   ]
  },
  {
   "cell_type": "code",
   "execution_count": 20,
   "metadata": {},
   "outputs": [
    {
     "name": "stdout",
     "output_type": "stream",
     "text": [
      "Average of averages =  6.34676127667513 minutes\n"
     ]
    }
   ],
   "source": [
    "# Solution\n",
    "\n",
    "sweep = sweep_lam(lam_array, mu, update_func2)\n",
    "W_avg = sweep.mean()\n",
    "print('Average of averages = ', W_avg, 'minutes')"
   ]
  },
  {
   "cell_type": "code",
   "execution_count": 21,
   "metadata": {},
   "outputs": [
    {
     "data": {
      "image/png": "[encoded data removed]",
      "text/plain": [
       "<Figure size 432x288 with 1 Axes>"
      ]
     },
     "metadata": {
      "needs_background": "light"
     },
     "output_type": "display_data"
    }
   ],
   "source": [
    "# Solution\n",
    "\n",
    "plot(sweep, 'bo')\n",
    "decorate(xlabel='Arrival late, lambda (per min)',\n",
    "         ylabel='Average time in system',\n",
    "         title='Multiple server, single queue')"
   ]
  },
  {
   "cell_type": "markdown",
   "metadata": {},
   "source": [
    "### Multiple queues\n",
    "\n",
    "To simulate the scenario with two separate queues, we need two state variables to keep track of customers in each queue.\n",
    "\n",
    "Write an update function that takes `x1`, `x2`, `t`, and `system` as parameters and returns `x1` and `x2` as return values.  f you are not sure how to return more than one return value, see `compute_metrics`.\n",
    "\n",
    "When a customer arrives, which queue do they join?"
   ]
  },
  {
   "cell_type": "code",
   "execution_count": 22,
   "metadata": {},
   "outputs": [],
   "source": [
    "# Solution\n",
    "\n",
    "def update_func3(x1, x2, t, system):\n",
    "    \"\"\"Simulate two queues with one server each.\n",
    "    \n",
    "    x1: number of customers in queue 1\n",
    "    x2: number of customers in queue 2\n",
    "    t: time step\n",
    "    system: System object\n",
    "    \"\"\"\n",
    "    # if the first servers is busy, check it it's done\n",
    "    if x1 > 0 and flip(system.mu):\n",
    "        x1 -= 1\n",
    "            \n",
    "    # if the second queue is busy, check if it's done\n",
    "    if x2 > 0 and flip(system.mu):\n",
    "        x2 -= 1\n",
    "            \n",
    "    # check for an arrival\n",
    "    if flip(system.lam):\n",
    "        # join whichever queue is shorter\n",
    "        if x1 < x2:\n",
    "            x1 += 1\n",
    "        else:\n",
    "            x2 += 1\n",
    "            \n",
    "    return x1, x2"
   ]
  },
  {
   "cell_type": "markdown",
   "metadata": {},
   "source": [
    "Write a version of `run_simulation` that works with this update function."
   ]
  },
  {
   "cell_type": "code",
   "execution_count": 23,
   "metadata": {},
   "outputs": [],
   "source": [
    "# Solution\n",
    "\n",
    "def run_simulation(system, update_func):\n",
    "    \"\"\"Simulate a queueing system.\n",
    "    \n",
    "    system: System object\n",
    "    update_func: function object\n",
    "    \"\"\"\n",
    "    x1, x2 = 0, 0\n",
    "    results = TimeSeries()\n",
    "    results[0] = x1 + x2\n",
    "    \n",
    "    for t in linrange(0, system.duration):\n",
    "        x1, x2 = update_func(x1, x2, t, system)\n",
    "        results[t+1] = x1 + x2\n",
    "\n",
    "    return results"
   ]
  },
  {
   "cell_type": "markdown",
   "metadata": {},
   "source": [
    "Test your functions by running a simulation with a single value of `lam`."
   ]
  },
  {
   "cell_type": "code",
   "execution_count": 24,
   "metadata": {},
   "outputs": [
    {
     "data": {
      "text/plain": [
       "(0.8552412645590682, 6.841930116472546)"
      ]
     },
     "execution_count": 24,
     "metadata": {},
     "output_type": "execute_result"
    },
    {
     "data": {
      "image/png": "[encoded data removed]",
      "text/plain": [
       "<Figure size 432x288 with 1 Axes>"
      ]
     },
     "metadata": {
      "needs_background": "light"
     },
     "output_type": "display_data"
    }
   ],
   "source": [
    "# Solution\n",
    "\n",
    "system = make_system(lam, mu)\n",
    "run_simulation(system, update_func3)\n",
    "plot(results)\n",
    "decorate(xlabel='Time (min)', ylabel='Customers')\n",
    "compute_metrics(results, system)"
   ]
  },
  {
   "cell_type": "markdown",
   "metadata": {},
   "source": [
    "Sweep a range of values for `lam`, plot the results, and print the average wait time across all values of `lam`.\n",
    "\n",
    "How do the results compare to the scenario with two servers and one queue."
   ]
  },
  {
   "cell_type": "code",
   "execution_count": 25,
   "metadata": {},
   "outputs": [
    {
     "name": "stdout",
     "output_type": "stream",
     "text": [
      "Average of averages =  6.753981831564981 minutes\n"
     ]
    }
   ],
   "source": [
    "# Solution\n",
    "\n",
    "sweep = sweep_lam(lam_array, mu, update_func3)\n",
    "W_avg = sweep.mean()\n",
    "print('Average of averages = ', W_avg, 'minutes')"
   ]
  },
  {
   "cell_type": "code",
   "execution_count": 26,
   "metadata": {},
   "outputs": [
    {
     "data": {
      "image/png": "[encoded data removed]",
      "text/plain": [
       "<Figure size 432x288 with 1 Axes>"
      ]
     },
     "metadata": {
      "needs_background": "light"
     },
     "output_type": "display_data"
    }
   ],
   "source": [
    "# Solution\n",
    "\n",
    "plot(sweep, 'bo')\n",
    "decorate(xlabel='Arrival late, lambda (per min)',\n",
    "         ylabel='Average time in system',\n",
    "         title='Multiple server, multiple queue')"
   ]
  },
  {
   "cell_type": "code",
   "execution_count": 27,
   "metadata": {},
   "outputs": [],
   "source": [
    "# Solution\n",
    "\n",
    "\"\"\"\n",
    "With two queues, the average of averages is slightly higher, most of the time.  But the difference is small.\n",
    "\n",
    "The two configurations are equally good as long as both servers are busy; the only time two lines is worse is if one queue is empty and the other contains more than one customer.  In real life, if we allow customers to change lanes, that disadvantage can be eliminated.\n",
    "\n",
    "From a theoretical point of view, one line is better.  From a practical point of view, the difference is small and can be mitigated.  So the best choice depends on practical considerations.\n",
    "\n",
    "On the other hand, you can do substantially better with an express line for customers with short service times.  But that's a topic for another notebook.\n",
    "\"\"\";"
   ]
  },
  {
   "cell_type": "code",
   "execution_count": null,
   "metadata": {},
   "outputs": [],
   "source": []
  }
 ],
 "metadata": {
  "kernelspec": {
   "display_name": "Python 3",
   "language": "python",
   "name": "python3"
  },
  "language_info": {
   "codemirror_mode": {
    "name": "ipython",
    "version": 3
   },
   "file_extension": ".py",
   "mimetype": "text/x-python",
   "name": "python",
   "nbconvert_exporter": "python",
   "pygments_lexer": "ipython3",
   "version": "3.7.3"
  }
 },
 "nbformat": 4,
 "nbformat_minor": 2
}
