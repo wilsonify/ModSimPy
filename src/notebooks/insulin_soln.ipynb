{
 "cells": [
  {
   "cell_type": "markdown",
   "metadata": {},
   "source": [
    "# Modeling and Simulation in Python\n",
    "\n",
    "Insulin minimal model\n",
    "\n",
    "Copyright 2017 Allen Downey\n",
    "\n",
    "License: [Creative Commons Attribution 4.0 International](https://creativecommons.org/licenses/by/4.0)\n"
   ]
  },
  {
   "cell_type": "code",
   "execution_count": 1,
   "metadata": {},
   "outputs": [],
   "source": [
    "# Configure Jupyter so figures appear in the notebook\n",
    "%matplotlib inline\n",
    "\n",
    "# Configure Jupyter to display the assigned value after an assignment\n",
    "%config InteractiveShell.ast_node_interactivity='last_expr_or_assign'\n",
    "\n",
    "# import functions from the modsim.py module\n",
    "from modsim import *"
   ]
  },
  {
   "cell_type": "markdown",
   "metadata": {},
   "source": [
    "### Data\n",
    "\n",
    "We have data from Pacini and Bergman (1986), \"MINMOD: a computer program to calculate insulin sensitivity and pancreatic responsivity from the frequently sampled intravenous glucose tolerance test\", *Computer Methods and Programs in Biomedicine*, 23: 113-122.."
   ]
  },
  {
   "cell_type": "code",
   "execution_count": 2,
   "metadata": {},
   "outputs": [],
   "source": [
    "data = pd.read_csv('data/glucose_insulin.csv', index_col='time');"
   ]
  },
  {
   "cell_type": "markdown",
   "metadata": {},
   "source": [
    "### The insulin minimal model\n",
    "\n",
    "In addition to the glucose minimal mode, Pacini and Bergman present an insulin minimal model, in which the concentration of insulin, $I$, is governed by this differential equation:\n",
    "\n",
    "$ \\frac{dI}{dt} = -k I(t) + \\gamma (G(t) - G_T) t $"
   ]
  },
  {
   "cell_type": "markdown",
   "metadata": {},
   "source": [
    "**Exercise:**  Write a version of `make_system` that takes the parameters of this model, `I0`, `k`, `gamma`, and `G_T` as parameters, along with a `DataFrame` containing the measurements, and returns a `System` object suitable for use with `run_simulation` or `run_odeint`.\n",
    "\n",
    "Use it to make a `System` object with the following parameters:"
   ]
  },
  {
   "cell_type": "code",
   "execution_count": 3,
   "metadata": {},
   "outputs": [
    {
     "data": {
      "text/html": [
       "<div>\n",
       "<style scoped>\n",
       "    .dataframe tbody tr th:only-of-type {\n",
       "        vertical-align: middle;\n",
       "    }\n",
       "\n",
       "    .dataframe tbody tr th {\n",
       "        vertical-align: top;\n",
       "    }\n",
       "\n",
       "    .dataframe thead th {\n",
       "        text-align: right;\n",
       "    }\n",
       "</style>\n",
       "<table border=\"1\" class=\"dataframe\">\n",
       "  <thead>\n",
       "    <tr style=\"text-align: right;\">\n",
       "      <th></th>\n",
       "      <th>values</th>\n",
       "    </tr>\n",
       "  </thead>\n",
       "  <tbody>\n",
       "    <tr>\n",
       "      <th>I0</th>\n",
       "      <td>360.000</td>\n",
       "    </tr>\n",
       "    <tr>\n",
       "      <th>k</th>\n",
       "      <td>0.250</td>\n",
       "    </tr>\n",
       "    <tr>\n",
       "      <th>gamma</th>\n",
       "      <td>0.004</td>\n",
       "    </tr>\n",
       "    <tr>\n",
       "      <th>G_T</th>\n",
       "      <td>80.000</td>\n",
       "    </tr>\n",
       "  </tbody>\n",
       "</table>\n",
       "</div>"
      ],
      "text/plain": [
       "I0       360.000\n",
       "k          0.250\n",
       "gamma      0.004\n",
       "G_T       80.000\n",
       "dtype: float64"
      ]
     },
     "execution_count": 3,
     "metadata": {},
     "output_type": "execute_result"
    }
   ],
   "source": [
    "params = Params(I0 = 360,\n",
    "                k = 0.25,\n",
    "                gamma = 0.004,\n",
    "                G_T = 80)"
   ]
  },
  {
   "cell_type": "code",
   "execution_count": 4,
   "metadata": {},
   "outputs": [],
   "source": [
    "# Solution\n",
    "\n",
    "def make_system(params, data):\n",
    "    # params might be a Params object or an array,\n",
    "    # so we have to unpack it like this\n",
    "    I0, k, gamma, G_T = params\n",
    "    \n",
    "    init = State(I=I0)\n",
    "    \n",
    "    t_0 = get_first_label(data)\n",
    "    t_end = get_last_label(data)\n",
    "    G=interpolate(data.glucose)\n",
    "    \n",
    "    system = System(I0=I0, k=k, gamma=gamma, G_T=G_T, G=G,\n",
    "                    init=init, t_0=t_0, t_end=t_end, dt=1)\n",
    "\n",
    "    return system"
   ]
  },
  {
   "cell_type": "code",
   "execution_count": 5,
   "metadata": {},
   "outputs": [
    {
     "data": {
      "text/html": [
       "<div>\n",
       "<style scoped>\n",
       "    .dataframe tbody tr th:only-of-type {\n",
       "        vertical-align: middle;\n",
       "    }\n",
       "\n",
       "    .dataframe tbody tr th {\n",
       "        vertical-align: top;\n",
       "    }\n",
       "\n",
       "    .dataframe thead th {\n",
       "        text-align: right;\n",
       "    }\n",
       "</style>\n",
       "<table border=\"1\" class=\"dataframe\">\n",
       "  <thead>\n",
       "    <tr style=\"text-align: right;\">\n",
       "      <th></th>\n",
       "      <th>values</th>\n",
       "    </tr>\n",
       "  </thead>\n",
       "  <tbody>\n",
       "    <tr>\n",
       "      <th>I0</th>\n",
       "      <td>360</td>\n",
       "    </tr>\n",
       "    <tr>\n",
       "      <th>k</th>\n",
       "      <td>0.25</td>\n",
       "    </tr>\n",
       "    <tr>\n",
       "      <th>gamma</th>\n",
       "      <td>0.004</td>\n",
       "    </tr>\n",
       "    <tr>\n",
       "      <th>G_T</th>\n",
       "      <td>80</td>\n",
       "    </tr>\n",
       "    <tr>\n",
       "      <th>G</th>\n",
       "      <td>&lt;function interpolate.&lt;locals&gt;.wrapper at 0x7f...</td>\n",
       "    </tr>\n",
       "    <tr>\n",
       "      <th>init</th>\n",
       "      <td>I    360.0\n",
       "dtype: float64</td>\n",
       "    </tr>\n",
       "    <tr>\n",
       "      <th>t_0</th>\n",
       "      <td>0</td>\n",
       "    </tr>\n",
       "    <tr>\n",
       "      <th>t_end</th>\n",
       "      <td>182</td>\n",
       "    </tr>\n",
       "    <tr>\n",
       "      <th>dt</th>\n",
       "      <td>1</td>\n",
       "    </tr>\n",
       "  </tbody>\n",
       "</table>\n",
       "</div>"
      ],
      "text/plain": [
       "I0                                                     360\n",
       "k                                                     0.25\n",
       "gamma                                                0.004\n",
       "G_T                                                     80\n",
       "G        <function interpolate.<locals>.wrapper at 0x7f...\n",
       "init                             I    360.0\n",
       "dtype: float64\n",
       "t_0                                                      0\n",
       "t_end                                                  182\n",
       "dt                                                       1\n",
       "dtype: object"
      ]
     },
     "execution_count": 5,
     "metadata": {},
     "output_type": "execute_result"
    }
   ],
   "source": [
    "# Solution\n",
    "\n",
    "system = make_system(params, data)"
   ]
  },
  {
   "cell_type": "markdown",
   "metadata": {},
   "source": [
    "**Exercise:** Write a slope function that takes state, t, system as parameters and returns the derivative of `I` with respect to time.  Test your function with the initial condition $I(0)=360$."
   ]
  },
  {
   "cell_type": "code",
   "execution_count": 6,
   "metadata": {},
   "outputs": [],
   "source": [
    "# Solution\n",
    "\n",
    "def slope_func(state, t, system):\n",
    "    [I] = state\n",
    "    k, gamma = system.k, system.gamma\n",
    "    G, G_T = system.G, system.G_T\n",
    "        \n",
    "    dIdt = -k * I + gamma * (G(t) - G_T) * t\n",
    "    \n",
    "    return [dIdt]"
   ]
  },
  {
   "cell_type": "code",
   "execution_count": 7,
   "metadata": {},
   "outputs": [
    {
     "data": {
      "text/plain": [
       "[-90.0]"
      ]
     },
     "execution_count": 7,
     "metadata": {},
     "output_type": "execute_result"
    }
   ],
   "source": [
    "# Solution\n",
    "\n",
    "slope_func(system.init, system.t_0, system)"
   ]
  },
  {
   "cell_type": "markdown",
   "metadata": {},
   "source": [
    "**Exercise:** Run `run_ode_solver` with your `System` object and slope function, and plot the results, along with the measured insulin levels."
   ]
  },
  {
   "cell_type": "code",
   "execution_count": 8,
   "metadata": {},
   "outputs": [
    {
     "data": {
      "text/html": [
       "<div>\n",
       "<style scoped>\n",
       "    .dataframe tbody tr th:only-of-type {\n",
       "        vertical-align: middle;\n",
       "    }\n",
       "\n",
       "    .dataframe tbody tr th {\n",
       "        vertical-align: top;\n",
       "    }\n",
       "\n",
       "    .dataframe thead th {\n",
       "        text-align: right;\n",
       "    }\n",
       "</style>\n",
       "<table border=\"1\" class=\"dataframe\">\n",
       "  <thead>\n",
       "    <tr style=\"text-align: right;\">\n",
       "      <th></th>\n",
       "      <th>values</th>\n",
       "    </tr>\n",
       "  </thead>\n",
       "  <tbody>\n",
       "    <tr>\n",
       "      <th>success</th>\n",
       "      <td>True</td>\n",
       "    </tr>\n",
       "    <tr>\n",
       "      <th>message</th>\n",
       "      <td>The solver successfully reached the end of the...</td>\n",
       "    </tr>\n",
       "  </tbody>\n",
       "</table>\n",
       "</div>"
      ],
      "text/plain": [
       "success                                                 True\n",
       "message    The solver successfully reached the end of the...\n",
       "dtype: object"
      ]
     },
     "execution_count": 8,
     "metadata": {},
     "output_type": "execute_result"
    }
   ],
   "source": [
    "# Solution\n",
    "\n",
    "results, details = run_ode_solver(system, slope_func)\n",
    "details"
   ]
  },
  {
   "cell_type": "code",
   "execution_count": 9,
   "metadata": {},
   "outputs": [
    {
     "data": {
      "text/html": [
       "<div>\n",
       "<style scoped>\n",
       "    .dataframe tbody tr th:only-of-type {\n",
       "        vertical-align: middle;\n",
       "    }\n",
       "\n",
       "    .dataframe tbody tr th {\n",
       "        vertical-align: top;\n",
       "    }\n",
       "\n",
       "    .dataframe thead th {\n",
       "        text-align: right;\n",
       "    }\n",
       "</style>\n",
       "<table border=\"1\" class=\"dataframe\">\n",
       "  <thead>\n",
       "    <tr style=\"text-align: right;\">\n",
       "      <th></th>\n",
       "      <th>I</th>\n",
       "    </tr>\n",
       "  </thead>\n",
       "  <tbody>\n",
       "    <tr>\n",
       "      <th>178</th>\n",
       "      <td>22.356671</td>\n",
       "    </tr>\n",
       "    <tr>\n",
       "      <th>179</th>\n",
       "      <td>23.180483</td>\n",
       "    </tr>\n",
       "    <tr>\n",
       "      <th>180</th>\n",
       "      <td>24.013211</td>\n",
       "    </tr>\n",
       "    <tr>\n",
       "      <th>181</th>\n",
       "      <td>24.854654</td>\n",
       "    </tr>\n",
       "    <tr>\n",
       "      <th>182</th>\n",
       "      <td>25.704657</td>\n",
       "    </tr>\n",
       "  </tbody>\n",
       "</table>\n",
       "</div>"
      ],
      "text/plain": [
       "             I\n",
       "178  22.356671\n",
       "179  23.180483\n",
       "180  24.013211\n",
       "181  24.854654\n",
       "182  25.704657"
      ]
     },
     "execution_count": 9,
     "metadata": {},
     "output_type": "execute_result"
    }
   ],
   "source": [
    "# Solution\n",
    "\n",
    "results.tail()"
   ]
  },
  {
   "cell_type": "code",
   "execution_count": 10,
   "metadata": {},
   "outputs": [
    {
     "data": {
      "image/png": "[encoded data removed]",
      "text/plain": [
       "<Figure size 432x288 with 1 Axes>"
      ]
     },
     "metadata": {
      "needs_background": "light"
     },
     "output_type": "display_data"
    }
   ],
   "source": [
    "# Solution\n",
    "\n",
    "plot(results.I, 'g-', label='simulation')\n",
    "plot(data.insulin, 'go', label='insulin data')\n",
    "\n",
    "decorate(xlabel='Time (min)',\n",
    "         ylabel='Concentration ($\\mu$U/mL)')"
   ]
  },
  {
   "cell_type": "markdown",
   "metadata": {},
   "source": [
    "**Exercise:**  Write an error function that takes a sequence of parameters as an argument, along with the `DataFrame` containing the measurements.  It should make a `System` object with the given parameters, run it, and compute the difference between the results of the simulation and the measured values.  Test your error function by calling it with the parameters from the previous exercise.\n",
    "\n",
    "Hint: As we did in a previous exercise, you might want to drop the errors for times prior to `t=8`."
   ]
  },
  {
   "cell_type": "code",
   "execution_count": 11,
   "metadata": {},
   "outputs": [],
   "source": [
    "# Solution\n",
    "\n",
    "def error_func(params, data):\n",
    "    \"\"\"Computes an array of errors to be minimized.\n",
    "    \n",
    "    params: sequence of parameters\n",
    "    actual: array of values to be matched\n",
    "    \n",
    "    returns: array of errors\n",
    "    \"\"\"\n",
    "    print(params)\n",
    "    \n",
    "    # make a System with the given parameters\n",
    "    system = make_system(params, data)\n",
    "\n",
    "    # solve the ODE\n",
    "    results, details = run_ode_solver(system, slope_func)\n",
    "\n",
    "    # compute the difference between the model\n",
    "    # results and actual data\n",
    "    errors = (results.I - data.insulin).dropna()\n",
    "    return TimeSeries(errors.loc[8:])"
   ]
  },
  {
   "cell_type": "code",
   "execution_count": 12,
   "metadata": {},
   "outputs": [
    {
     "name": "stdout",
     "output_type": "stream",
     "text": [
      "I0       360.000\n",
      "k          0.250\n",
      "gamma      0.004\n",
      "G_T       80.000\n",
      "dtype: float64\n"
     ]
    },
    {
     "data": {
      "text/html": [
       "<div>\n",
       "<style scoped>\n",
       "    .dataframe tbody tr th:only-of-type {\n",
       "        vertical-align: middle;\n",
       "    }\n",
       "\n",
       "    .dataframe tbody tr th {\n",
       "        vertical-align: top;\n",
       "    }\n",
       "\n",
       "    .dataframe thead th {\n",
       "        text-align: right;\n",
       "    }\n",
       "</style>\n",
       "<table border=\"1\" class=\"dataframe\">\n",
       "  <thead>\n",
       "    <tr style=\"text-align: right;\">\n",
       "      <th></th>\n",
       "      <th>values</th>\n",
       "    </tr>\n",
       "  </thead>\n",
       "  <tbody>\n",
       "    <tr>\n",
       "      <th>8</th>\n",
       "      <td>11.892725</td>\n",
       "    </tr>\n",
       "    <tr>\n",
       "      <th>10</th>\n",
       "      <td>-2.299827</td>\n",
       "    </tr>\n",
       "    <tr>\n",
       "      <th>12</th>\n",
       "      <td>-7.258477</td>\n",
       "    </tr>\n",
       "    <tr>\n",
       "      <th>14</th>\n",
       "      <td>-7.522652</td>\n",
       "    </tr>\n",
       "    <tr>\n",
       "      <th>16</th>\n",
       "      <td>-3.263455</td>\n",
       "    </tr>\n",
       "    <tr>\n",
       "      <th>19</th>\n",
       "      <td>2.001941</td>\n",
       "    </tr>\n",
       "    <tr>\n",
       "      <th>22</th>\n",
       "      <td>2.652451</td>\n",
       "    </tr>\n",
       "    <tr>\n",
       "      <th>27</th>\n",
       "      <td>7.047398</td>\n",
       "    </tr>\n",
       "    <tr>\n",
       "      <th>32</th>\n",
       "      <td>3.742283</td>\n",
       "    </tr>\n",
       "    <tr>\n",
       "      <th>42</th>\n",
       "      <td>8.929934</td>\n",
       "    </tr>\n",
       "    <tr>\n",
       "      <th>52</th>\n",
       "      <td>9.543487</td>\n",
       "    </tr>\n",
       "    <tr>\n",
       "      <th>62</th>\n",
       "      <td>0.764077</td>\n",
       "    </tr>\n",
       "    <tr>\n",
       "      <th>72</th>\n",
       "      <td>-3.217837</td>\n",
       "    </tr>\n",
       "    <tr>\n",
       "      <th>82</th>\n",
       "      <td>-10.385020</td>\n",
       "    </tr>\n",
       "    <tr>\n",
       "      <th>92</th>\n",
       "      <td>-7.384116</td>\n",
       "    </tr>\n",
       "    <tr>\n",
       "      <th>102</th>\n",
       "      <td>-9.062852</td>\n",
       "    </tr>\n",
       "    <tr>\n",
       "      <th>122</th>\n",
       "      <td>-3.583691</td>\n",
       "    </tr>\n",
       "    <tr>\n",
       "      <th>142</th>\n",
       "      <td>-3.586581</td>\n",
       "    </tr>\n",
       "    <tr>\n",
       "      <th>162</th>\n",
       "      <td>3.171719</td>\n",
       "    </tr>\n",
       "    <tr>\n",
       "      <th>182</th>\n",
       "      <td>18.704657</td>\n",
       "    </tr>\n",
       "  </tbody>\n",
       "</table>\n",
       "</div>"
      ],
      "text/plain": [
       "8      11.892725\n",
       "10     -2.299827\n",
       "12     -7.258477\n",
       "14     -7.522652\n",
       "16     -3.263455\n",
       "19      2.001941\n",
       "22      2.652451\n",
       "27      7.047398\n",
       "32      3.742283\n",
       "42      8.929934\n",
       "52      9.543487\n",
       "62      0.764077\n",
       "72     -3.217837\n",
       "82    -10.385020\n",
       "92     -7.384116\n",
       "102    -9.062852\n",
       "122    -3.583691\n",
       "142    -3.586581\n",
       "162     3.171719\n",
       "182    18.704657\n",
       "dtype: float64"
      ]
     },
     "execution_count": 12,
     "metadata": {},
     "output_type": "execute_result"
    }
   ],
   "source": [
    "# Solution\n",
    "\n",
    "error_func(params, data)"
   ]
  },
  {
   "cell_type": "markdown",
   "metadata": {},
   "source": [
    "**Exercise:** Use `leastsq` to find the parameters that best fit the data.  Make a `System` object with those parameters, run it, and plot the results along with the measurements."
   ]
  },
  {
   "cell_type": "code",
   "execution_count": 13,
   "metadata": {},
   "outputs": [
    {
     "name": "stdout",
     "output_type": "stream",
     "text": [
      "[3.6e+02 2.5e-01 4.0e-03 8.0e+01]\n",
      "[3.6e+02 2.5e-01 4.0e-03 8.0e+01]\n",
      "[3.6e+02 2.5e-01 4.0e-03 8.0e+01]\n",
      "[3.60000005e+02 2.50000000e-01 4.00000000e-03 8.00000000e+01]\n",
      "[3.60000000e+02 2.50000004e-01 4.00000000e-03 8.00000000e+01]\n",
      "[3.60000000e+02 2.50000000e-01 4.00000006e-03 8.00000000e+01]\n",
      "[3.60000000e+02 2.50000000e-01 4.00000000e-03 8.00000012e+01]\n",
      "[-5.30683629e+02 -6.79500345e-02 -2.29098225e-03  7.86040674e+01]\n",
      "[2.86020929e+02 2.22835658e-01 2.97772381e-03 7.96421423e+01]\n",
      "[2.86020933e+02 2.22835658e-01 2.97772381e-03 7.96421423e+01]\n",
      "[2.86020929e+02 2.22835661e-01 2.97772381e-03 7.96421423e+01]\n",
      "[2.86020929e+02 2.22835658e-01 2.97772385e-03 7.96421423e+01]\n",
      "[2.86020929e+02 2.22835658e-01 2.97772381e-03 7.96421435e+01]\n",
      "[1.40631803e+02 1.53621683e-01 1.89393929e-03 7.90793326e+01]\n",
      "[1.40631805e+02 1.53621683e-01 1.89393929e-03 7.90793326e+01]\n",
      "[1.40631803e+02 1.53621685e-01 1.89393929e-03 7.90793326e+01]\n",
      "[1.40631803e+02 1.53621683e-01 1.89393932e-03 7.90793326e+01]\n",
      "[1.40631803e+02 1.53621683e-01 1.89393929e-03 7.90793338e+01]\n",
      "[1.01576311e+02 8.86883215e-02 9.10961079e-04 7.82514786e+01]\n",
      "[1.01576313e+02 8.86883215e-02 9.10961079e-04 7.82514786e+01]\n",
      "[1.01576311e+02 8.86883229e-02 9.10961079e-04 7.82514786e+01]\n",
      "[1.01576311e+02 8.86883215e-02 9.10961092e-04 7.82514786e+01]\n",
      "[1.01576311e+02 8.86883215e-02 9.10961079e-04 7.82514798e+01]\n",
      "[5.41795211e+01 3.19558519e-02 1.64722970e-06 7.52821022e+01]\n",
      "[9.41838679e+01 7.81822807e-02 7.18446369e-04 7.71896713e+01]\n",
      "[9.41838693e+01 7.81822807e-02 7.18446369e-04 7.71896713e+01]\n",
      "[9.41838679e+01 7.81822818e-02 7.18446369e-04 7.71896713e+01]\n",
      "[9.41838679e+01 7.81822807e-02 7.18446380e-04 7.71896713e+01]\n",
      "[9.41838679e+01 7.81822807e-02 7.18446369e-04 7.71896724e+01]\n",
      "[7.78825680e+01 5.77937352e-02 4.15373341e-04 7.56865719e+01]\n",
      "[7.78825692e+01 5.77937352e-02 4.15373341e-04 7.56865719e+01]\n",
      "[7.78825680e+01 5.77937361e-02 4.15373341e-04 7.56865719e+01]\n",
      "[7.78825680e+01 5.77937352e-02 4.15373347e-04 7.56865719e+01]\n",
      "[7.78825680e+01 5.77937352e-02 4.15373341e-04 7.56865730e+01]\n",
      "[6.35497242e+01 3.52871788e-02 1.00914602e-04 7.17166904e+01]\n",
      "[7.00853351e+01 4.50180592e-02 2.47464050e-04 7.34214050e+01]\n",
      "[7.00853362e+01 4.50180592e-02 2.47464050e-04 7.34214050e+01]\n",
      "[7.00853351e+01 4.50180598e-02 2.47464050e-04 7.34214050e+01]\n",
      "[7.00853351e+01 4.50180592e-02 2.47464054e-04 7.34214050e+01]\n",
      "[7.00853351e+01 4.50180592e-02 2.47464050e-04 7.34214061e+01]\n",
      "[6.37912891e+01 3.44851857e-02 9.62260771e-05 6.83462066e+01]\n",
      "[6.67348714e+01 3.95606416e-02 1.77689353e-04 7.08245914e+01]\n",
      "[6.67348724e+01 3.95606416e-02 1.77689353e-04 7.08245914e+01]\n",
      "[6.67348714e+01 3.95606422e-02 1.77689353e-04 7.08245914e+01]\n",
      "[6.67348714e+01 3.95606416e-02 1.77689356e-04 7.08245914e+01]\n",
      "[6.67348714e+01 3.95606416e-02 1.77689353e-04 7.08245925e+01]\n",
      "[6.34063138e+01 3.36912594e-02 8.92271739e-05 6.53604365e+01]\n",
      "[6.54581258e+01 3.75386018e-02 1.53145128e-04 6.89998360e+01]\n",
      "[6.54581268e+01 3.75386018e-02 1.53145128e-04 6.89998360e+01]\n",
      "[6.54581258e+01 3.75386023e-02 1.53145128e-04 6.89998360e+01]\n",
      "[6.54581258e+01 3.75386018e-02 1.53145131e-04 6.89998360e+01]\n",
      "[6.54581258e+01 3.75386018e-02 1.53145128e-04 6.89998370e+01]\n",
      "[6.37967075e+01 3.44948737e-02 1.05359671e-04 6.52279435e+01]\n",
      "[6.37967084e+01 3.44948737e-02 1.05359671e-04 6.52279435e+01]\n",
      "[6.37967075e+01 3.44948743e-02 1.05359671e-04 6.52279435e+01]\n",
      "[6.37967075e+01 3.44948737e-02 1.05359673e-04 6.52279435e+01]\n",
      "[6.37967075e+01 3.44948737e-02 1.05359671e-04 6.52279444e+01]\n",
      "[6.34409307e+01 3.39762874e-02 1.00577649e-04 6.31260404e+01]\n",
      "[6.34409316e+01 3.39762874e-02 1.00577649e-04 6.31260404e+01]\n",
      "[6.34409307e+01 3.39762879e-02 1.00577649e-04 6.31260404e+01]\n",
      "[6.34409307e+01 3.39762874e-02 1.00577650e-04 6.31260404e+01]\n",
      "[6.34409307e+01 3.39762874e-02 1.00577649e-04 6.31260413e+01]\n",
      "[6.28791031e+01 3.28824014e-02 8.29220012e-05 6.00474015e+01]\n",
      "[6.30778597e+01 3.32816079e-02 8.95761488e-05 6.11905313e+01]\n",
      "[6.30778606e+01 3.32816079e-02 8.95761488e-05 6.11905313e+01]\n",
      "[6.30778597e+01 3.32816084e-02 8.95761488e-05 6.11905313e+01]\n",
      "[6.30778597e+01 3.32816079e-02 8.95761502e-05 6.11905313e+01]\n",
      "[6.30778597e+01 3.32816079e-02 8.95761488e-05 6.11905322e+01]\n",
      "[6.28214056e+01 3.28104757e-02 8.25234881e-05 5.95114505e+01]\n",
      "[6.28214065e+01 3.28104757e-02 8.25234881e-05 5.95114505e+01]\n",
      "[6.28214056e+01 3.28104762e-02 8.25234881e-05 5.95114505e+01]\n",
      "[6.28214056e+01 3.28104757e-02 8.25234894e-05 5.95114505e+01]\n",
      "[6.28214056e+01 3.28104757e-02 8.25234881e-05 5.95114514e+01]\n",
      "[6.27778545e+01 3.27546603e-02 8.21350019e-05 5.93234986e+01]\n",
      "[6.27778555e+01 3.27546603e-02 8.21350019e-05 5.93234986e+01]\n",
      "[6.27778545e+01 3.27546608e-02 8.21350019e-05 5.93234986e+01]\n",
      "[6.27778545e+01 3.27546603e-02 8.21350032e-05 5.93234986e+01]\n",
      "[6.27778545e+01 3.27546603e-02 8.21350019e-05 5.93234995e+01]\n",
      "[6.27660608e+01 3.27361764e-02 8.19166237e-05 5.92757881e+01]\n",
      "[6.27660617e+01 3.27361764e-02 8.19166237e-05 5.92757881e+01]\n",
      "[6.27660608e+01 3.27361769e-02 8.19166237e-05 5.92757881e+01]\n",
      "[6.27660608e+01 3.27361764e-02 8.19166250e-05 5.92757881e+01]\n",
      "[6.27660608e+01 3.27361764e-02 8.19166237e-05 5.92757890e+01]\n",
      "[6.27629251e+01 3.27314482e-02 8.18644601e-05 5.92648489e+01]\n",
      "[6.27629260e+01 3.27314482e-02 8.18644601e-05 5.92648489e+01]\n",
      "[6.27629251e+01 3.27314487e-02 8.18644601e-05 5.92648489e+01]\n",
      "[6.27629251e+01 3.27314482e-02 8.18644614e-05 5.92648489e+01]\n",
      "[6.27629251e+01 3.27314482e-02 8.18644601e-05 5.92648498e+01]\n",
      "[6.27620378e+01 3.27300853e-02 8.18488907e-05 5.92615370e+01]\n",
      "Both actual and predicted relative reductions in the sum of squares\n",
      "  are at most 0.000000\n"
     ]
    }
   ],
   "source": [
    "# Solution\n",
    "\n",
    "best_params, details = leastsq(error_func, params, data)\n",
    "print(details.mesg)"
   ]
  },
  {
   "cell_type": "code",
   "execution_count": 14,
   "metadata": {},
   "outputs": [
    {
     "data": {
      "text/html": [
       "<div>\n",
       "<style scoped>\n",
       "    .dataframe tbody tr th:only-of-type {\n",
       "        vertical-align: middle;\n",
       "    }\n",
       "\n",
       "    .dataframe tbody tr th {\n",
       "        vertical-align: top;\n",
       "    }\n",
       "\n",
       "    .dataframe thead th {\n",
       "        text-align: right;\n",
       "    }\n",
       "</style>\n",
       "<table border=\"1\" class=\"dataframe\">\n",
       "  <thead>\n",
       "    <tr style=\"text-align: right;\">\n",
       "      <th></th>\n",
       "      <th>values</th>\n",
       "    </tr>\n",
       "  </thead>\n",
       "  <tbody>\n",
       "    <tr>\n",
       "      <th>I0</th>\n",
       "      <td>62.762</td>\n",
       "    </tr>\n",
       "    <tr>\n",
       "      <th>k</th>\n",
       "      <td>0.0327301</td>\n",
       "    </tr>\n",
       "    <tr>\n",
       "      <th>gamma</th>\n",
       "      <td>8.18489e-05</td>\n",
       "    </tr>\n",
       "    <tr>\n",
       "      <th>G_T</th>\n",
       "      <td>59.2615</td>\n",
       "    </tr>\n",
       "    <tr>\n",
       "      <th>G</th>\n",
       "      <td>&lt;function interpolate.&lt;locals&gt;.wrapper at 0x7f...</td>\n",
       "    </tr>\n",
       "    <tr>\n",
       "      <th>init</th>\n",
       "      <td>I    62.762038\n",
       "dtype: float64</td>\n",
       "    </tr>\n",
       "    <tr>\n",
       "      <th>t_0</th>\n",
       "      <td>0</td>\n",
       "    </tr>\n",
       "    <tr>\n",
       "      <th>t_end</th>\n",
       "      <td>182</td>\n",
       "    </tr>\n",
       "    <tr>\n",
       "      <th>dt</th>\n",
       "      <td>1</td>\n",
       "    </tr>\n",
       "  </tbody>\n",
       "</table>\n",
       "</div>"
      ],
      "text/plain": [
       "I0                                                  62.762\n",
       "k                                                0.0327301\n",
       "gamma                                          8.18489e-05\n",
       "G_T                                                59.2615\n",
       "G        <function interpolate.<locals>.wrapper at 0x7f...\n",
       "init                         I    62.762038\n",
       "dtype: float64\n",
       "t_0                                                      0\n",
       "t_end                                                  182\n",
       "dt                                                       1\n",
       "dtype: object"
      ]
     },
     "execution_count": 14,
     "metadata": {},
     "output_type": "execute_result"
    }
   ],
   "source": [
    "# Solution\n",
    "\n",
    "system = make_system(best_params, data)"
   ]
  },
  {
   "cell_type": "code",
   "execution_count": 15,
   "metadata": {},
   "outputs": [
    {
     "data": {
      "text/html": [
       "<div>\n",
       "<style scoped>\n",
       "    .dataframe tbody tr th:only-of-type {\n",
       "        vertical-align: middle;\n",
       "    }\n",
       "\n",
       "    .dataframe tbody tr th {\n",
       "        vertical-align: top;\n",
       "    }\n",
       "\n",
       "    .dataframe thead th {\n",
       "        text-align: right;\n",
       "    }\n",
       "</style>\n",
       "<table border=\"1\" class=\"dataframe\">\n",
       "  <thead>\n",
       "    <tr style=\"text-align: right;\">\n",
       "      <th></th>\n",
       "      <th>values</th>\n",
       "    </tr>\n",
       "  </thead>\n",
       "  <tbody>\n",
       "    <tr>\n",
       "      <th>success</th>\n",
       "      <td>True</td>\n",
       "    </tr>\n",
       "    <tr>\n",
       "      <th>message</th>\n",
       "      <td>The solver successfully reached the end of the...</td>\n",
       "    </tr>\n",
       "  </tbody>\n",
       "</table>\n",
       "</div>"
      ],
      "text/plain": [
       "success                                                 True\n",
       "message    The solver successfully reached the end of the...\n",
       "dtype: object"
      ]
     },
     "execution_count": 15,
     "metadata": {},
     "output_type": "execute_result"
    }
   ],
   "source": [
    "# Solution\n",
    "\n",
    "results, details = run_ode_solver(system, slope_func, t_eval=data.index)\n",
    "details"
   ]
  },
  {
   "cell_type": "code",
   "execution_count": 16,
   "metadata": {},
   "outputs": [
    {
     "data": {
      "image/png": "[encoded data removed]",
      "text/plain": [
       "<Figure size 432x288 with 1 Axes>"
      ]
     },
     "metadata": {
      "needs_background": "light"
     },
     "output_type": "display_data"
    }
   ],
   "source": [
    "# Solution\n",
    "\n",
    "plot(results.I, 'g-', label='simulation')\n",
    "plot(data.insulin, 'go', label='insulin data')\n",
    "\n",
    "decorate(xlabel='Time (min)',\n",
    "         ylabel='Concentration ($\\mu$U/mL)')"
   ]
  },
  {
   "cell_type": "markdown",
   "metadata": {},
   "source": [
    "**Exercise:** Using the best parameters, estimate the sensitivity to glucose of the first and second phase pancreatic responsivity:\n",
    "\n",
    "$ \\phi_1 = \\frac{I_{max} - I_b}{k (G_0 - G_b)} $\n",
    "\n",
    "$ \\phi_2 = \\gamma \\times 10^4 $\n",
    "\n",
    "For $G_0$, use the best estimate from the glucose model, 290.  For $G_b$ and $I_b$, use the inital measurements from the data.\n"
   ]
  },
  {
   "cell_type": "code",
   "execution_count": 17,
   "metadata": {},
   "outputs": [],
   "source": [
    "# Solution\n",
    "\n",
    "I0, k, gamma, G_T = best_params"
   ]
  },
  {
   "cell_type": "code",
   "execution_count": 18,
   "metadata": {},
   "outputs": [
    {
     "data": {
      "text/plain": [
       "(130, 11)"
      ]
     },
     "execution_count": 18,
     "metadata": {},
     "output_type": "execute_result"
    }
   ],
   "source": [
    "# Solution\n",
    "\n",
    "I_max = data.insulin.max()\n",
    "Ib = data.insulin[0]\n",
    "I_max, Ib"
   ]
  },
  {
   "cell_type": "code",
   "execution_count": 19,
   "metadata": {},
   "outputs": [
    {
     "data": {
      "text/plain": [
       "(289, 92)"
      ]
     },
     "execution_count": 19,
     "metadata": {},
     "output_type": "execute_result"
    }
   ],
   "source": [
    "# Solution\n",
    "\n",
    "# The value of G0 is the best estimate from the glucose model\n",
    "G0 = 289\n",
    "Gb = data.glucose[0]\n",
    "G0, Gb"
   ]
  },
  {
   "cell_type": "code",
   "execution_count": 20,
   "metadata": {},
   "outputs": [
    {
     "data": {
      "text/plain": [
       "18.455830724497748"
      ]
     },
     "execution_count": 20,
     "metadata": {},
     "output_type": "execute_result"
    }
   ],
   "source": [
    "# Solution\n",
    "\n",
    "phi_1 = (I_max - Ib) / k / (G0 - Gb)\n",
    "phi_1"
   ]
  },
  {
   "cell_type": "code",
   "execution_count": 21,
   "metadata": {},
   "outputs": [
    {
     "data": {
      "text/plain": [
       "0.8184889071339871"
      ]
     },
     "execution_count": 21,
     "metadata": {},
     "output_type": "execute_result"
    }
   ],
   "source": [
    "# Solution\n",
    "\n",
    "phi_2 = gamma * 1e4\n",
    "phi_2"
   ]
  },
  {
   "cell_type": "code",
   "execution_count": null,
   "metadata": {},
   "outputs": [],
   "source": []
  }
 ],
 "metadata": {
  "kernelspec": {
   "display_name": "Python 3",
   "language": "python",
   "name": "python3"
  },
  "language_info": {
   "codemirror_mode": {
    "name": "ipython",
    "version": 3
   },
   "file_extension": ".py",
   "mimetype": "text/x-python",
   "name": "python",
   "nbconvert_exporter": "python",
   "pygments_lexer": "ipython3",
   "version": "3.7.3"
  }
 },
 "nbformat": 4,
 "nbformat_minor": 2
}
