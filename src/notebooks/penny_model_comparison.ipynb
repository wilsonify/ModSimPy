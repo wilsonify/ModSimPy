{
 "cells": [
  {
   "cell_type": "markdown",
   "metadata": {},
   "source": [
    "# Modeling and Simulation in Python\n",
    "\n",
    "Comparison of the penny models from Chapters 1, 20, and 21\n",
    "\n",
    "Copyright 2018 Allen Downey\n",
    "\n",
    "License: [Creative Commons Attribution 4.0 International](https://creativecommons.org/licenses/by/4.0)"
   ]
  },
  {
   "cell_type": "code",
   "execution_count": 1,
   "metadata": {},
   "outputs": [],
   "source": [
    "# Configure Jupyter so figures appear in the notebook\n",
    "%matplotlib inline\n",
    "\n",
    "# Configure Jupyter to display the assigned value after an assignment\n",
    "%config InteractiveShell.ast_node_interactivity='last_expr_or_assign'\n",
    "\n",
    "# import functions from the modsim.py module\n",
    "from modsim import *"
   ]
  },
  {
   "cell_type": "markdown",
   "metadata": {},
   "source": [
    "### With air resistance"
   ]
  },
  {
   "cell_type": "markdown",
   "metadata": {},
   "source": [
    "Next we'll add air resistance using the [drag equation](https://en.wikipedia.org/wiki/Drag_equation)"
   ]
  },
  {
   "cell_type": "markdown",
   "metadata": {},
   "source": [
    "I'll start by getting the units we'll need from Pint."
   ]
  },
  {
   "cell_type": "code",
   "execution_count": 2,
   "metadata": {},
   "outputs": [
    {
     "data": {
      "text/html": [
       "kilogram"
      ],
      "text/latex": [
       "$\\mathrm{kilogram}$"
      ],
      "text/plain": [
       "<Unit('kilogram')>"
      ]
     },
     "execution_count": 2,
     "metadata": {},
     "output_type": "execute_result"
    }
   ],
   "source": [
    "m = UNITS.meter\n",
    "s = UNITS.second\n",
    "kg = UNITS.kilogram"
   ]
  },
  {
   "cell_type": "markdown",
   "metadata": {},
   "source": [
    "Now I'll create a `Params` object to contain the quantities we need.  Using a Params object is convenient for grouping the system parameters in a way that's easy to read (and double-check)."
   ]
  },
  {
   "cell_type": "code",
   "execution_count": 3,
   "metadata": {},
   "outputs": [
    {
     "data": {
      "text/html": [
       "<div>\n",
       "<style scoped>\n",
       "    .dataframe tbody tr th:only-of-type {\n",
       "        vertical-align: middle;\n",
       "    }\n",
       "\n",
       "    .dataframe tbody tr th {\n",
       "        vertical-align: top;\n",
       "    }\n",
       "\n",
       "    .dataframe thead th {\n",
       "        text-align: right;\n",
       "    }\n",
       "</style>\n",
       "<table border=\"1\" class=\"dataframe\">\n",
       "  <thead>\n",
       "    <tr style=\"text-align: right;\">\n",
       "      <th></th>\n",
       "      <th>values</th>\n",
       "    </tr>\n",
       "  </thead>\n",
       "  <tbody>\n",
       "    <tr>\n",
       "      <th>height</th>\n",
       "      <td>381 meter</td>\n",
       "    </tr>\n",
       "    <tr>\n",
       "      <th>v_init</th>\n",
       "      <td>0.0 meter / second</td>\n",
       "    </tr>\n",
       "    <tr>\n",
       "      <th>g</th>\n",
       "      <td>9.8 meter / second ** 2</td>\n",
       "    </tr>\n",
       "    <tr>\n",
       "      <th>mass</th>\n",
       "      <td>0.0025 kilogram</td>\n",
       "    </tr>\n",
       "    <tr>\n",
       "      <th>diameter</th>\n",
       "      <td>0.019 meter</td>\n",
       "    </tr>\n",
       "    <tr>\n",
       "      <th>rho</th>\n",
       "      <td>1.2 kilogram / meter ** 3</td>\n",
       "    </tr>\n",
       "    <tr>\n",
       "      <th>v_term</th>\n",
       "      <td>18.0 meter / second</td>\n",
       "    </tr>\n",
       "  </tbody>\n",
       "</table>\n",
       "</div>"
      ],
      "text/plain": [
       "height                      381 meter\n",
       "v_init             0.0 meter / second\n",
       "g             9.8 meter / second ** 2\n",
       "mass                  0.0025 kilogram\n",
       "diameter                  0.019 meter\n",
       "rho         1.2 kilogram / meter ** 3\n",
       "v_term            18.0 meter / second\n",
       "dtype: object"
      ]
     },
     "execution_count": 3,
     "metadata": {},
     "output_type": "execute_result"
    }
   ],
   "source": [
    "params = Params(height = 381 * m,\n",
    "                v_init = 0 * m / s,\n",
    "                g = 9.8 * m/s**2,\n",
    "                mass = 2.5e-3 * kg,\n",
    "                diameter = 19e-3 * m,\n",
    "                rho = 1.2 * kg/m**3,\n",
    "                v_term = 18 * m / s)"
   ]
  },
  {
   "cell_type": "markdown",
   "metadata": {},
   "source": [
    "Now we can pass the `Params` object `make_system` which computes some additional parameters and defines `init`.\n",
    "\n",
    "`make_system` uses the given radius to compute `area` and the given `v_term` to compute the drag coefficient `C_d`."
   ]
  },
  {
   "cell_type": "code",
   "execution_count": 4,
   "metadata": {},
   "outputs": [],
   "source": [
    "def make_system(params):\n",
    "    \"\"\"Makes a System object for the given conditions.\n",
    "    \n",
    "    params: Params object\n",
    "    \n",
    "    returns: System object\n",
    "    \"\"\"\n",
    "    unpack(params)\n",
    "    \n",
    "    area = np.pi * (diameter/2)**2\n",
    "    C_d = 2 * mass * g / (rho * area * v_term**2)\n",
    "    init = State(y=height, v=v_init)\n",
    "    t_end = 30 * s\n",
    "    \n",
    "    return System(params, area=area, C_d=C_d, \n",
    "                  init=init, t_end=t_end)"
   ]
  },
  {
   "cell_type": "markdown",
   "metadata": {},
   "source": [
    "Let's make a `System`"
   ]
  },
  {
   "cell_type": "code",
   "execution_count": 5,
   "metadata": {},
   "outputs": [
    {
     "data": {
      "text/html": [
       "<div>\n",
       "<style scoped>\n",
       "    .dataframe tbody tr th:only-of-type {\n",
       "        vertical-align: middle;\n",
       "    }\n",
       "\n",
       "    .dataframe tbody tr th {\n",
       "        vertical-align: top;\n",
       "    }\n",
       "\n",
       "    .dataframe thead th {\n",
       "        text-align: right;\n",
       "    }\n",
       "</style>\n",
       "<table border=\"1\" class=\"dataframe\">\n",
       "  <thead>\n",
       "    <tr style=\"text-align: right;\">\n",
       "      <th></th>\n",
       "      <th>values</th>\n",
       "    </tr>\n",
       "  </thead>\n",
       "  <tbody>\n",
       "    <tr>\n",
       "      <th>height</th>\n",
       "      <td>381 meter</td>\n",
       "    </tr>\n",
       "    <tr>\n",
       "      <th>v_init</th>\n",
       "      <td>0.0 meter / second</td>\n",
       "    </tr>\n",
       "    <tr>\n",
       "      <th>g</th>\n",
       "      <td>9.8 meter / second ** 2</td>\n",
       "    </tr>\n",
       "    <tr>\n",
       "      <th>mass</th>\n",
       "      <td>0.0025 kilogram</td>\n",
       "    </tr>\n",
       "    <tr>\n",
       "      <th>diameter</th>\n",
       "      <td>0.019 meter</td>\n",
       "    </tr>\n",
       "    <tr>\n",
       "      <th>rho</th>\n",
       "      <td>1.2 kilogram / meter ** 3</td>\n",
       "    </tr>\n",
       "    <tr>\n",
       "      <th>v_term</th>\n",
       "      <td>18.0 meter / second</td>\n",
       "    </tr>\n",
       "    <tr>\n",
       "      <th>area</th>\n",
       "      <td>0.0002835287369864788 meter ** 2</td>\n",
       "    </tr>\n",
       "    <tr>\n",
       "      <th>C_d</th>\n",
       "      <td>0.4445009981135434 dimensionless</td>\n",
       "    </tr>\n",
       "    <tr>\n",
       "      <th>init</th>\n",
       "      <td>y             381 meter\n",
       "v    0.0 meter / secon...</td>\n",
       "    </tr>\n",
       "    <tr>\n",
       "      <th>t_end</th>\n",
       "      <td>30 second</td>\n",
       "    </tr>\n",
       "  </tbody>\n",
       "</table>\n",
       "</div>"
      ],
      "text/plain": [
       "height                                              381 meter\n",
       "v_init                                     0.0 meter / second\n",
       "g                                     9.8 meter / second ** 2\n",
       "mass                                          0.0025 kilogram\n",
       "diameter                                          0.019 meter\n",
       "rho                                 1.2 kilogram / meter ** 3\n",
       "v_term                                    18.0 meter / second\n",
       "area                         0.0002835287369864788 meter ** 2\n",
       "C_d                          0.4445009981135434 dimensionless\n",
       "init        y             381 meter\n",
       "v    0.0 meter / secon...\n",
       "t_end                                               30 second\n",
       "dtype: object"
      ]
     },
     "execution_count": 5,
     "metadata": {},
     "output_type": "execute_result"
    }
   ],
   "source": [
    "system = make_system(params)"
   ]
  },
  {
   "cell_type": "markdown",
   "metadata": {},
   "source": [
    "Here's the slope function, including acceleration due to gravity and drag."
   ]
  },
  {
   "cell_type": "code",
   "execution_count": 6,
   "metadata": {},
   "outputs": [],
   "source": [
    "def slope_func(state, t, system):\n",
    "    \"\"\"Compute derivatives of the state.\n",
    "    \n",
    "    state: position, velocity\n",
    "    t: time\n",
    "    system: System object\n",
    "    \n",
    "    returns: derivatives of y and v\n",
    "    \"\"\"\n",
    "    y, v = state\n",
    "    rho, C_d, area = system.rho, system.C_d, system.area\n",
    "    mass = system.mass\n",
    "    g = system.g\n",
    "    \n",
    "    f_drag = rho * v**2 * C_d * area / 2\n",
    "    a_drag = f_drag / mass\n",
    "    \n",
    "    dydt = v\n",
    "    dvdt = -g + a_drag\n",
    "    \n",
    "    return dydt, dvdt"
   ]
  },
  {
   "cell_type": "markdown",
   "metadata": {},
   "source": [
    "As always, let's test the slope function with the initial conditions."
   ]
  },
  {
   "cell_type": "code",
   "execution_count": 7,
   "metadata": {},
   "outputs": [
    {
     "data": {
      "text/plain": [
       "(0.0 <Unit('meter / second')>, -9.8 <Unit('meter / second ** 2')>)"
      ]
     },
     "execution_count": 7,
     "metadata": {},
     "output_type": "execute_result"
    }
   ],
   "source": [
    "slope_func(system.init, 0, system)"
   ]
  },
  {
   "cell_type": "markdown",
   "metadata": {},
   "source": [
    "We can use the same event function as in the previous chapter."
   ]
  },
  {
   "cell_type": "code",
   "execution_count": 8,
   "metadata": {},
   "outputs": [],
   "source": [
    "def event_func(state, t, system):\n",
    "    \"\"\"Return the height of the penny above the sidewalk.\n",
    "    \"\"\"\n",
    "    y, v = state\n",
    "    return y"
   ]
  },
  {
   "cell_type": "markdown",
   "metadata": {},
   "source": [
    "And then run the simulation."
   ]
  },
  {
   "cell_type": "code",
   "execution_count": 9,
   "metadata": {},
   "outputs": [
    {
     "data": {
      "text/html": [
       "<div>\n",
       "<style scoped>\n",
       "    .dataframe tbody tr th:only-of-type {\n",
       "        vertical-align: middle;\n",
       "    }\n",
       "\n",
       "    .dataframe tbody tr th {\n",
       "        vertical-align: top;\n",
       "    }\n",
       "\n",
       "    .dataframe thead th {\n",
       "        text-align: right;\n",
       "    }\n",
       "</style>\n",
       "<table border=\"1\" class=\"dataframe\">\n",
       "  <thead>\n",
       "    <tr style=\"text-align: right;\">\n",
       "      <th></th>\n",
       "      <th>values</th>\n",
       "    </tr>\n",
       "  </thead>\n",
       "  <tbody>\n",
       "    <tr>\n",
       "      <th>success</th>\n",
       "      <td>True</td>\n",
       "    </tr>\n",
       "    <tr>\n",
       "      <th>message</th>\n",
       "      <td>A termination event occurred.</td>\n",
       "    </tr>\n",
       "  </tbody>\n",
       "</table>\n",
       "</div>"
      ],
      "text/plain": [
       "success                             True\n",
       "message    A termination event occurred.\n",
       "dtype: object"
      ]
     },
     "execution_count": 9,
     "metadata": {},
     "output_type": "execute_result"
    }
   ],
   "source": [
    "results, details = run_ode_solver(system, slope_func, events=event_func)\n",
    "details"
   ]
  },
  {
   "cell_type": "markdown",
   "metadata": {},
   "source": [
    "Here are the results."
   ]
  },
  {
   "cell_type": "code",
   "execution_count": 10,
   "metadata": {},
   "outputs": [
    {
     "data": {
      "text/html": [
       "<div>\n",
       "<style scoped>\n",
       "    .dataframe tbody tr th:only-of-type {\n",
       "        vertical-align: middle;\n",
       "    }\n",
       "\n",
       "    .dataframe tbody tr th {\n",
       "        vertical-align: top;\n",
       "    }\n",
       "\n",
       "    .dataframe thead th {\n",
       "        text-align: right;\n",
       "    }\n",
       "</style>\n",
       "<table border=\"1\" class=\"dataframe\">\n",
       "  <thead>\n",
       "    <tr style=\"text-align: right;\">\n",
       "      <th></th>\n",
       "      <th>y</th>\n",
       "      <th>v</th>\n",
       "    </tr>\n",
       "  </thead>\n",
       "  <tbody>\n",
       "    <tr>\n",
       "      <th>0.000000</th>\n",
       "      <td>381 meter</td>\n",
       "      <td>0.0 meter / second</td>\n",
       "    </tr>\n",
       "    <tr>\n",
       "      <th>0.300000</th>\n",
       "      <td>380.559 meter</td>\n",
       "      <td>-2.913855777777778 meter / second</td>\n",
       "    </tr>\n",
       "    <tr>\n",
       "      <th>0.600000</th>\n",
       "      <td>379.2553998560887 meter</td>\n",
       "      <td>-5.676321799192868 meter / second</td>\n",
       "    </tr>\n",
       "    <tr>\n",
       "      <th>0.900000</th>\n",
       "      <td>377.15535917269835 meter</td>\n",
       "      <td>-8.166374221525693 meter / second</td>\n",
       "    </tr>\n",
       "    <tr>\n",
       "      <th>1.200000</th>\n",
       "      <td>374.35521895425103 meter</td>\n",
       "      <td>-10.311720070623485 meter / second</td>\n",
       "    </tr>\n",
       "    <tr>\n",
       "      <th>1.500000</th>\n",
       "      <td>370.96543201556204 meter</td>\n",
       "      <td>-12.090247228814045 meter / second</td>\n",
       "    </tr>\n",
       "    <tr>\n",
       "      <th>1.800000</th>\n",
       "      <td>367.09631700871336 meter</td>\n",
       "      <td>-13.518952241005275 meter / second</td>\n",
       "    </tr>\n",
       "    <tr>\n",
       "      <th>2.100000</th>\n",
       "      <td>362.8483908201627 meter</td>\n",
       "      <td>-14.638370780659383 meter / second</td>\n",
       "    </tr>\n",
       "    <tr>\n",
       "      <th>2.400000</th>\n",
       "      <td>358.3075410597563 meter</td>\n",
       "      <td>-15.498718976734299 meter / second</td>\n",
       "    </tr>\n",
       "    <tr>\n",
       "      <th>2.700000</th>\n",
       "      <td>353.54387826134905 meter</td>\n",
       "      <td>-16.150356583635052 meter / second</td>\n",
       "    </tr>\n",
       "    <tr>\n",
       "      <th>3.000000</th>\n",
       "      <td>348.6127953660127 meter</td>\n",
       "      <td>-16.638537486499228 meter / second</td>\n",
       "    </tr>\n",
       "    <tr>\n",
       "      <th>3.300000</th>\n",
       "      <td>343.5570453854738 meter</td>\n",
       "      <td>-17.001300692432412 meter / second</td>\n",
       "    </tr>\n",
       "    <tr>\n",
       "      <th>3.600000</th>\n",
       "      <td>338.4090764843133 meter</td>\n",
       "      <td>-17.269254229780273 meter / second</td>\n",
       "    </tr>\n",
       "    <tr>\n",
       "      <th>3.900000</th>\n",
       "      <td>333.1932204915177 meter</td>\n",
       "      <td>-17.466306425809933 meter / second</td>\n",
       "    </tr>\n",
       "    <tr>\n",
       "      <th>4.200000</th>\n",
       "      <td>327.92756526232625 meter</td>\n",
       "      <td>-17.610750940510915 meter / second</td>\n",
       "    </tr>\n",
       "    <tr>\n",
       "      <th>4.500000</th>\n",
       "      <td>322.62547300477706 meter</td>\n",
       "      <td>-17.716383148064374 meter / second</td>\n",
       "    </tr>\n",
       "    <tr>\n",
       "      <th>4.800000</th>\n",
       "      <td>317.2967703203745 meter</td>\n",
       "      <td>-17.793499099432996 meter / second</td>\n",
       "    </tr>\n",
       "    <tr>\n",
       "      <th>5.100000</th>\n",
       "      <td>311.94866008776336 meter</td>\n",
       "      <td>-17.84972641814655 meter / second</td>\n",
       "    </tr>\n",
       "    <tr>\n",
       "      <th>5.400000</th>\n",
       "      <td>306.586409493623 meter</td>\n",
       "      <td>-17.890685845112163 meter / second</td>\n",
       "    </tr>\n",
       "    <tr>\n",
       "      <th>5.700000</th>\n",
       "      <td>301.21386361121205 meter</td>\n",
       "      <td>-17.920503377109643 meter / second</td>\n",
       "    </tr>\n",
       "    <tr>\n",
       "      <th>6.000000</th>\n",
       "      <td>295.8338258653892 meter</td>\n",
       "      <td>-17.94219936904363 meter / second</td>\n",
       "    </tr>\n",
       "    <tr>\n",
       "      <th>6.300000</th>\n",
       "      <td>290.448338371113 meter</td>\n",
       "      <td>-17.957980371929946 meter / second</td>\n",
       "    </tr>\n",
       "    <tr>\n",
       "      <th>6.600000</th>\n",
       "      <td>285.05888770100324 meter</td>\n",
       "      <td>-17.96945605745975 meter / second</td>\n",
       "    </tr>\n",
       "    <tr>\n",
       "      <th>6.900000</th>\n",
       "      <td>279.66655550040554 meter</td>\n",
       "      <td>-17.977799435972766 meter / second</td>\n",
       "    </tr>\n",
       "    <tr>\n",
       "      <th>7.200000</th>\n",
       "      <td>274.2721285128205 meter</td>\n",
       "      <td>-17.9838646561385 meter / second</td>\n",
       "    </tr>\n",
       "    <tr>\n",
       "      <th>7.500000</th>\n",
       "      <td>268.87617883849407 meter</td>\n",
       "      <td>-17.988273335755586 meter / second</td>\n",
       "    </tr>\n",
       "    <tr>\n",
       "      <th>7.800000</th>\n",
       "      <td>263.47912241839214 meter</td>\n",
       "      <td>-17.99147768251337 meter / second</td>\n",
       "    </tr>\n",
       "    <tr>\n",
       "      <th>8.100000</th>\n",
       "      <td>258.08126161893864 meter</td>\n",
       "      <td>-17.99380656697738 meter / second</td>\n",
       "    </tr>\n",
       "    <tr>\n",
       "      <th>8.400000</th>\n",
       "      <td>252.68281622283766 meter</td>\n",
       "      <td>-17.99549911112701 meter / second</td>\n",
       "    </tr>\n",
       "    <tr>\n",
       "      <th>8.700000</th>\n",
       "      <td>247.28394597351817 meter</td>\n",
       "      <td>-17.996729153771838 meter / second</td>\n",
       "    </tr>\n",
       "    <tr>\n",
       "      <th>...</th>\n",
       "      <td>...</td>\n",
       "      <td>...</td>\n",
       "    </tr>\n",
       "    <tr>\n",
       "      <th>13.800000</th>\n",
       "      <td>155.48693674391328 meter</td>\n",
       "      <td>-17.99998562459072 meter / second</td>\n",
       "    </tr>\n",
       "    <tr>\n",
       "      <th>14.100000</th>\n",
       "      <td>150.08694035214128 meter</td>\n",
       "      <td>-17.99998955354878 meter / second</td>\n",
       "    </tr>\n",
       "    <tr>\n",
       "      <th>14.400000</th>\n",
       "      <td>144.6869429742007 meter</td>\n",
       "      <td>-17.99999240867943 meter / second</td>\n",
       "    </tr>\n",
       "    <tr>\n",
       "      <th>14.700000</th>\n",
       "      <td>139.28694487962224 meter</td>\n",
       "      <td>-17.999994483471404 meter / second</td>\n",
       "    </tr>\n",
       "    <tr>\n",
       "      <th>15.000000</th>\n",
       "      <td>133.88694626427096 meter</td>\n",
       "      <td>-17.999995991199814 meter / second</td>\n",
       "    </tr>\n",
       "    <tr>\n",
       "      <th>15.300000</th>\n",
       "      <td>128.48694727047982 meter</td>\n",
       "      <td>-17.99999708684937 meter / second</td>\n",
       "    </tr>\n",
       "    <tr>\n",
       "      <th>15.600000</th>\n",
       "      <td>123.08694800168064 meter</td>\n",
       "      <td>-17.99999788304576 meter / second</td>\n",
       "    </tr>\n",
       "    <tr>\n",
       "      <th>15.900000</th>\n",
       "      <td>117.68694853303616 meter</td>\n",
       "      <td>-17.999998461632856 meter / second</td>\n",
       "    </tr>\n",
       "    <tr>\n",
       "      <th>16.200000</th>\n",
       "      <td>112.28694891916632 meter</td>\n",
       "      <td>-17.999998882085677 meter / second</td>\n",
       "    </tr>\n",
       "    <tr>\n",
       "      <th>16.500000</th>\n",
       "      <td>106.88694919976282 meter</td>\n",
       "      <td>-17.999999187624077 meter / second</td>\n",
       "    </tr>\n",
       "    <tr>\n",
       "      <th>16.800000</th>\n",
       "      <td>101.48694940366919 meter</td>\n",
       "      <td>-17.99999940965544 meter / second</td>\n",
       "    </tr>\n",
       "    <tr>\n",
       "      <th>17.100000</th>\n",
       "      <td>96.08694955184568 meter</td>\n",
       "      <td>-17.999999571003165 meter / second</td>\n",
       "    </tr>\n",
       "    <tr>\n",
       "      <th>17.400000</th>\n",
       "      <td>90.68694965952389 meter</td>\n",
       "      <td>-17.999999688252768 meter / second</td>\n",
       "    </tr>\n",
       "    <tr>\n",
       "      <th>17.700000</th>\n",
       "      <td>85.28694973777245 meter</td>\n",
       "      <td>-17.99999977345675 meter / second</td>\n",
       "    </tr>\n",
       "    <tr>\n",
       "      <th>18.000000</th>\n",
       "      <td>79.8869497946348 meter</td>\n",
       "      <td>-17.999999835373536 meter / second</td>\n",
       "    </tr>\n",
       "    <tr>\n",
       "      <th>18.300000</th>\n",
       "      <td>74.48694983595604 meter</td>\n",
       "      <td>-17.999999880367778 meter / second</td>\n",
       "    </tr>\n",
       "    <tr>\n",
       "      <th>18.600000</th>\n",
       "      <td>69.08694986598373 meter</td>\n",
       "      <td>-17.999999913064592 meter / second</td>\n",
       "    </tr>\n",
       "    <tr>\n",
       "      <th>18.900000</th>\n",
       "      <td>63.686949887804516 meter</td>\n",
       "      <td>-17.999999936825006 meter / second</td>\n",
       "    </tr>\n",
       "    <tr>\n",
       "      <th>19.200000</th>\n",
       "      <td>58.28694990366144 meter</td>\n",
       "      <td>-17.999999954091432 meter / second</td>\n",
       "    </tr>\n",
       "    <tr>\n",
       "      <th>19.500000</th>\n",
       "      <td>52.88694991518449 meter</td>\n",
       "      <td>-17.999999966638754 meter / second</td>\n",
       "    </tr>\n",
       "    <tr>\n",
       "      <th>19.800000</th>\n",
       "      <td>47.48694992355816 meter</td>\n",
       "      <td>-17.999999975756754 meter / second</td>\n",
       "    </tr>\n",
       "    <tr>\n",
       "      <th>20.100000</th>\n",
       "      <td>42.08694992964321 meter</td>\n",
       "      <td>-17.999999982382704 meter / second</td>\n",
       "    </tr>\n",
       "    <tr>\n",
       "      <th>20.400000</th>\n",
       "      <td>36.686949934065154 meter</td>\n",
       "      <td>-17.999999987197707 meter / second</td>\n",
       "    </tr>\n",
       "    <tr>\n",
       "      <th>20.700000</th>\n",
       "      <td>31.28694993727853 meter</td>\n",
       "      <td>-17.999999990696715 meter / second</td>\n",
       "    </tr>\n",
       "    <tr>\n",
       "      <th>21.000000</th>\n",
       "      <td>25.886949939613654 meter</td>\n",
       "      <td>-17.999999993239406 meter / second</td>\n",
       "    </tr>\n",
       "    <tr>\n",
       "      <th>21.300000</th>\n",
       "      <td>20.486949941310563 meter</td>\n",
       "      <td>-17.99999999508715 meter / second</td>\n",
       "    </tr>\n",
       "    <tr>\n",
       "      <th>21.600000</th>\n",
       "      <td>15.086949942543686 meter</td>\n",
       "      <td>-17.99999999642989 meter / second</td>\n",
       "    </tr>\n",
       "    <tr>\n",
       "      <th>21.900000</th>\n",
       "      <td>9.686949943439785 meter</td>\n",
       "      <td>-17.99999999740564 meter / second</td>\n",
       "    </tr>\n",
       "    <tr>\n",
       "      <th>22.200000</th>\n",
       "      <td>4.286949944090969 meter</td>\n",
       "      <td>-17.999999998114706 meter / second</td>\n",
       "    </tr>\n",
       "    <tr>\n",
       "      <th>22.438164</th>\n",
       "      <td>0.0 meter</td>\n",
       "      <td>-17.99999999852377 meter / second</td>\n",
       "    </tr>\n",
       "  </tbody>\n",
       "</table>\n",
       "<p>76 rows × 2 columns</p>\n",
       "</div>"
      ],
      "text/plain": [
       "                                  y                                   v\n",
       "0.000000                  381 meter                  0.0 meter / second\n",
       "0.300000              380.559 meter   -2.913855777777778 meter / second\n",
       "0.600000    379.2553998560887 meter   -5.676321799192868 meter / second\n",
       "0.900000   377.15535917269835 meter   -8.166374221525693 meter / second\n",
       "1.200000   374.35521895425103 meter  -10.311720070623485 meter / second\n",
       "1.500000   370.96543201556204 meter  -12.090247228814045 meter / second\n",
       "1.800000   367.09631700871336 meter  -13.518952241005275 meter / second\n",
       "2.100000    362.8483908201627 meter  -14.638370780659383 meter / second\n",
       "2.400000    358.3075410597563 meter  -15.498718976734299 meter / second\n",
       "2.700000   353.54387826134905 meter  -16.150356583635052 meter / second\n",
       "3.000000    348.6127953660127 meter  -16.638537486499228 meter / second\n",
       "3.300000    343.5570453854738 meter  -17.001300692432412 meter / second\n",
       "3.600000    338.4090764843133 meter  -17.269254229780273 meter / second\n",
       "3.900000    333.1932204915177 meter  -17.466306425809933 meter / second\n",
       "4.200000   327.92756526232625 meter  -17.610750940510915 meter / second\n",
       "4.500000   322.62547300477706 meter  -17.716383148064374 meter / second\n",
       "4.800000    317.2967703203745 meter  -17.793499099432996 meter / second\n",
       "5.100000   311.94866008776336 meter   -17.84972641814655 meter / second\n",
       "5.400000     306.586409493623 meter  -17.890685845112163 meter / second\n",
       "5.700000   301.21386361121205 meter  -17.920503377109643 meter / second\n",
       "6.000000    295.8338258653892 meter   -17.94219936904363 meter / second\n",
       "6.300000     290.448338371113 meter  -17.957980371929946 meter / second\n",
       "6.600000   285.05888770100324 meter   -17.96945605745975 meter / second\n",
       "6.900000   279.66655550040554 meter  -17.977799435972766 meter / second\n",
       "7.200000    274.2721285128205 meter    -17.9838646561385 meter / second\n",
       "7.500000   268.87617883849407 meter  -17.988273335755586 meter / second\n",
       "7.800000   263.47912241839214 meter   -17.99147768251337 meter / second\n",
       "8.100000   258.08126161893864 meter   -17.99380656697738 meter / second\n",
       "8.400000   252.68281622283766 meter   -17.99549911112701 meter / second\n",
       "8.700000   247.28394597351817 meter  -17.996729153771838 meter / second\n",
       "...                             ...                                 ...\n",
       "13.800000  155.48693674391328 meter   -17.99998562459072 meter / second\n",
       "14.100000  150.08694035214128 meter   -17.99998955354878 meter / second\n",
       "14.400000   144.6869429742007 meter   -17.99999240867943 meter / second\n",
       "14.700000  139.28694487962224 meter  -17.999994483471404 meter / second\n",
       "15.000000  133.88694626427096 meter  -17.999995991199814 meter / second\n",
       "15.300000  128.48694727047982 meter   -17.99999708684937 meter / second\n",
       "15.600000  123.08694800168064 meter   -17.99999788304576 meter / second\n",
       "15.900000  117.68694853303616 meter  -17.999998461632856 meter / second\n",
       "16.200000  112.28694891916632 meter  -17.999998882085677 meter / second\n",
       "16.500000  106.88694919976282 meter  -17.999999187624077 meter / second\n",
       "16.800000  101.48694940366919 meter   -17.99999940965544 meter / second\n",
       "17.100000   96.08694955184568 meter  -17.999999571003165 meter / second\n",
       "17.400000   90.68694965952389 meter  -17.999999688252768 meter / second\n",
       "17.700000   85.28694973777245 meter   -17.99999977345675 meter / second\n",
       "18.000000    79.8869497946348 meter  -17.999999835373536 meter / second\n",
       "18.300000   74.48694983595604 meter  -17.999999880367778 meter / second\n",
       "18.600000   69.08694986598373 meter  -17.999999913064592 meter / second\n",
       "18.900000  63.686949887804516 meter  -17.999999936825006 meter / second\n",
       "19.200000   58.28694990366144 meter  -17.999999954091432 meter / second\n",
       "19.500000   52.88694991518449 meter  -17.999999966638754 meter / second\n",
       "19.800000   47.48694992355816 meter  -17.999999975756754 meter / second\n",
       "20.100000   42.08694992964321 meter  -17.999999982382704 meter / second\n",
       "20.400000  36.686949934065154 meter  -17.999999987197707 meter / second\n",
       "20.700000   31.28694993727853 meter  -17.999999990696715 meter / second\n",
       "21.000000  25.886949939613654 meter  -17.999999993239406 meter / second\n",
       "21.300000  20.486949941310563 meter   -17.99999999508715 meter / second\n",
       "21.600000  15.086949942543686 meter   -17.99999999642989 meter / second\n",
       "21.900000   9.686949943439785 meter   -17.99999999740564 meter / second\n",
       "22.200000   4.286949944090969 meter  -17.999999998114706 meter / second\n",
       "22.438164                 0.0 meter   -17.99999999852377 meter / second\n",
       "\n",
       "[76 rows x 2 columns]"
      ]
     },
     "execution_count": 10,
     "metadata": {},
     "output_type": "execute_result"
    }
   ],
   "source": [
    "results"
   ]
  },
  {
   "cell_type": "markdown",
   "metadata": {},
   "source": [
    "The final height is close to 0, as expected.\n",
    "\n",
    "Interestingly, the final velocity is not exactly terminal velocity, which suggests that there are some numerical errors.\n",
    "\n",
    "We can get the flight time from `results`."
   ]
  },
  {
   "cell_type": "code",
   "execution_count": 11,
   "metadata": {},
   "outputs": [
    {
     "data": {
      "text/plain": [
       "22.438163885803732"
      ]
     },
     "execution_count": 11,
     "metadata": {},
     "output_type": "execute_result"
    }
   ],
   "source": [
    "t_sidewalk = get_last_label(results)"
   ]
  },
  {
   "cell_type": "markdown",
   "metadata": {},
   "source": [
    "Here's the plot of position as a function of time."
   ]
  },
  {
   "cell_type": "code",
   "execution_count": 13,
   "metadata": {},
   "outputs": [
    {
     "data": {
      "image/png": "[encoded data removed]",
      "text/plain": [
       "<Figure size 432x288 with 1 Axes>"
      ]
     },
     "metadata": {
      "needs_background": "light"
     },
     "output_type": "display_data"
    }
   ],
   "source": [
    "def plot_position(results):\n",
    "    plot(results.y)\n",
    "    decorate(xlabel='Time (s)',\n",
    "             ylabel='Position (m)')\n",
    "    \n",
    "plot_position(results)"
   ]
  },
  {
   "cell_type": "markdown",
   "metadata": {},
   "source": [
    "And velocity as a function of time:"
   ]
  },
  {
   "cell_type": "code",
   "execution_count": 14,
   "metadata": {},
   "outputs": [
    {
     "data": {
      "image/png": "[encoded data removed]",
      "text/plain": [
       "<Figure size 432x288 with 1 Axes>"
      ]
     },
     "metadata": {
      "needs_background": "light"
     },
     "output_type": "display_data"
    }
   ],
   "source": [
    "def plot_velocity(results):\n",
    "    plot(results.v, color='C1', label='v')\n",
    "        \n",
    "    decorate(xlabel='Time (s)',\n",
    "             ylabel='Velocity (m/s)')\n",
    "    \n",
    "plot_velocity(results)"
   ]
  },
  {
   "cell_type": "markdown",
   "metadata": {},
   "source": [
    "From an initial velocity of 0, the penny accelerates downward until it reaches terminal velocity; after that, velocity is constant."
   ]
  },
  {
   "cell_type": "markdown",
   "metadata": {},
   "source": [
    "### Back to Chapter 1\n",
    "\n",
    "We have now considered three models of a falling penny:\n",
    "\n",
    "1.  In Chapter 1, we started with the simplest model, which includes gravity and ignores drag.\n",
    "\n",
    "2.  As an exercise in Chapter 1, we did a \"back of the envelope\" calculation assuming constant acceleration until the penny reaches terminal velocity, and then constant velocity until it reaches the sidewalk.\n",
    "\n",
    "3.  In this chapter, we model the interaction of gravity and drag during the acceleration phase.\n",
    "\n",
    "We can compare the models by plotting velocity as a function of time.\n",
    "\n"
   ]
  },
  {
   "cell_type": "code",
   "execution_count": 15,
   "metadata": {},
   "outputs": [
    {
     "data": {
      "text/plain": [
       "22.4"
      ]
     },
     "execution_count": 15,
     "metadata": {},
     "output_type": "execute_result"
    }
   ],
   "source": [
    "g = 9.8\n",
    "v_term = 18\n",
    "t_end = 22.4"
   ]
  },
  {
   "cell_type": "code",
   "execution_count": 16,
   "metadata": {},
   "outputs": [],
   "source": [
    "ts = linspace(0, t_end, 201)\n",
    "model1 = -g * ts;"
   ]
  },
  {
   "cell_type": "code",
   "execution_count": 17,
   "metadata": {},
   "outputs": [],
   "source": [
    "model2 = TimeSeries()\n",
    "for t in ts:\n",
    "    v = -g * t\n",
    "    if v < -v_term:\n",
    "        model2[t] = -v_term\n",
    "    else:\n",
    "        model2[t] = v"
   ]
  },
  {
   "cell_type": "code",
   "execution_count": 18,
   "metadata": {},
   "outputs": [],
   "source": [
    "results, details = run_ode_solver(system, slope_func, events=event_func, max_step=0.5)\n",
    "model3 = results.v;"
   ]
  },
  {
   "cell_type": "code",
   "execution_count": 19,
   "metadata": {},
   "outputs": [
    {
     "data": {
      "image/png": "[encoded data removed]",
      "text/plain": [
       "<Figure size 432x288 with 1 Axes>"
      ]
     },
     "metadata": {
      "needs_background": "light"
     },
     "output_type": "display_data"
    }
   ],
   "source": [
    "plot(ts, model1, label='model1', color='gray')\n",
    "plot(model2, label='model2', color='C0')\n",
    "plot(model3, label='model3', color='C1')\n",
    "        \n",
    "decorate(xlabel='Time (s)',\n",
    "         ylabel='Velocity (m/s)')"
   ]
  },
  {
   "cell_type": "code",
   "execution_count": 20,
   "metadata": {},
   "outputs": [
    {
     "data": {
      "image/png": "[encoded data removed]",
      "text/plain": [
       "<Figure size 432x288 with 1 Axes>"
      ]
     },
     "metadata": {
      "needs_background": "light"
     },
     "output_type": "display_data"
    }
   ],
   "source": [
    "plot(model2, label='model2', color='C0')\n",
    "plot(results.v, label='model3', color='C1')\n",
    "        \n",
    "decorate(xlabel='Time (s)',\n",
    "         ylabel='Velocity (m/s)')"
   ]
  },
  {
   "cell_type": "markdown",
   "metadata": {},
   "source": [
    "Clearly Model 1 is very different from the other two, which are almost identical except during the transition from constant acceleration to constant velocity.\n",
    "\n",
    "We can also compare the predictions:\n",
    "\n",
    "* According to Model 1, the penny takes 8.8 seconds to reach the sidewalk, and lands at 86 meters per second.\n",
    "\n",
    "* According to Model 2, the penny takes 22.1 seconds and lands at terminal velocity, 18 m/s.\n",
    "\n",
    "* According to Model 3, the penny takes 22.4 seconds and lands at terminal velocity.\n",
    "\n",
    "So what can we conclude?  The results from Model 1 are clearly unrealistic; it is probably not a useful model of this system.  The results from Model 2 are off by about 1%, which is probably good enough for most purposes.\n",
    "\n",
    "In fact, our estimate of the terminal velocity could by off by 10% or more, and the figure we are using for the height of the Empire State Building is not precise either.\n",
    "\n",
    "So the difference between Models 2 and 3 is swamped by other uncertainties."
   ]
  },
  {
   "cell_type": "code",
   "execution_count": null,
   "metadata": {},
   "outputs": [],
   "source": []
  }
 ],
 "metadata": {
  "kernelspec": {
   "display_name": "Python 3",
   "language": "python",
   "name": "python3"
  },
  "language_info": {
   "codemirror_mode": {
    "name": "ipython",
    "version": 3
   },
   "file_extension": ".py",
   "mimetype": "text/x-python",
   "name": "python",
   "nbconvert_exporter": "python",
   "pygments_lexer": "ipython3",
   "version": "3.7.3"
  }
 },
 "nbformat": 4,
 "nbformat_minor": 2
}
